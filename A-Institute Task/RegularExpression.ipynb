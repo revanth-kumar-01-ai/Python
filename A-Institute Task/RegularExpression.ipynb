{
 "cells": [
  {
   "cell_type": "code",
   "execution_count": 2,
   "id": "02296562-cfcd-48cb-93da-20a4aefa6a1d",
   "metadata": {},
   "outputs": [],
   "source": [
    "import re"
   ]
  },
  {
   "cell_type": "markdown",
   "id": "9ddf734a-2a39-4cb5-b26b-8116ccf75dd9",
   "metadata": {},
   "source": [
    "###### 1)Write a Python program to check that a string contains only a certain set of characters (in this case a-z, A-Z and 0-9)\t"
   ]
  },
  {
   "cell_type": "code",
   "execution_count": 29,
   "id": "fbdeff22-44ca-4c33-8685-01d3978a080a",
   "metadata": {},
   "outputs": [],
   "source": [
    "stringData = \"hellASDSSo123\""
   ]
  },
  {
   "cell_type": "code",
   "execution_count": 30,
   "id": "dded0da5-ff63-4268-a7e2-ddd768d099a1",
   "metadata": {},
   "outputs": [
    {
     "name": "stdout",
     "output_type": "stream",
     "text": [
      "It's not contains the symbols\n"
     ]
    }
   ],
   "source": [
    "if (re.search(r'[\\W]+', stringData)): \n",
    "    print(\"It's contains the symbols\")\n",
    "else:\n",
    "    print(\"It's not contains the symbols\")"
   ]
  },
  {
   "cell_type": "markdown",
   "id": "f1a5fd75-b67b-413b-8429-c09440a2a669",
   "metadata": {},
   "source": [
    "###### 2) Write a Python program to replace all occurrences of space, comma, or dot with a colon."
   ]
  },
  {
   "cell_type": "code",
   "execution_count": 47,
   "id": "e04db175-d21d-4b4c-b19d-3f77bf8a963a",
   "metadata": {},
   "outputs": [
    {
     "data": {
      "text/plain": [
       "':::799&(*%#%&:::::hjvkugy'"
      ]
     },
     "execution_count": 47,
     "metadata": {},
     "output_type": "execute_result"
    }
   ],
   "source": [
    "stringData = \" ,.799&(*%#%&, . ,hjvkugy\"\n",
    "subbedString = re.compile(r'[ ,.]')\n",
    "matches = subbedString.sub(\":\", stringData)\n",
    "matches"
   ]
  },
  {
   "cell_type": "code",
   "execution_count": null,
   "id": "ef88f0f0-8aab-469c-8498-3b8f5de0e7af",
   "metadata": {},
   "outputs": [],
   "source": []
  },
  {
   "cell_type": "code",
   "execution_count": null,
   "id": "a286e8a8-dc54-4b1d-8782-76b0194f2d8a",
   "metadata": {},
   "outputs": [],
   "source": []
  }
 ],
 "metadata": {
  "kernelspec": {
   "display_name": "Python 3 (ipykernel)",
   "language": "python",
   "name": "python3"
  },
  "language_info": {
   "codemirror_mode": {
    "name": "ipython",
    "version": 3
   },
   "file_extension": ".py",
   "mimetype": "text/x-python",
   "name": "python",
   "nbconvert_exporter": "python",
   "pygments_lexer": "ipython3",
   "version": "3.8.20"
  },
  "widgets": {
   "application/vnd.jupyter.widget-state+json": {
    "state": {},
    "version_major": 2,
    "version_minor": 0
   }
  }
 },
 "nbformat": 4,
 "nbformat_minor": 5
}
