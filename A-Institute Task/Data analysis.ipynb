{
 "cells": [
  {
   "cell_type": "code",
   "execution_count": 113,
   "id": "3640ddcf-9b4f-4654-abc4-e8a81501c7ea",
   "metadata": {},
   "outputs": [],
   "source": [
    "import pandas as pd \n",
    "import numpy as np\n",
    "from sklearn.impute import SimpleImputer\n",
    "import seaborn as sns \n",
    "import matplotlib.pyplot as plt "
   ]
  },
  {
   "cell_type": "code",
   "execution_count": 7,
   "id": "302d44f3-5fca-474c-b7d2-0ef3c2d69ab1",
   "metadata": {},
   "outputs": [],
   "source": [
    "dataset = pd.read_csv(r'E:\\Data Container\\Data.csv')"
   ]
  },
  {
   "cell_type": "code",
   "execution_count": 8,
   "id": "6e8334c6-e90f-43e0-befe-fed8d9880d92",
   "metadata": {},
   "outputs": [
    {
     "data": {
      "text/html": [
       "<div>\n",
       "<style scoped>\n",
       "    .dataframe tbody tr th:only-of-type {\n",
       "        vertical-align: middle;\n",
       "    }\n",
       "\n",
       "    .dataframe tbody tr th {\n",
       "        vertical-align: top;\n",
       "    }\n",
       "\n",
       "    .dataframe thead th {\n",
       "        text-align: right;\n",
       "    }\n",
       "</style>\n",
       "<table border=\"1\" class=\"dataframe\">\n",
       "  <thead>\n",
       "    <tr style=\"text-align: right;\">\n",
       "      <th></th>\n",
       "      <th>Position</th>\n",
       "      <th>State</th>\n",
       "      <th>Sex</th>\n",
       "      <th>MaritalDesc</th>\n",
       "      <th>CitizenDesc</th>\n",
       "      <th>EmploymentStatus</th>\n",
       "      <th>Department</th>\n",
       "      <th>Salaries</th>\n",
       "      <th>age</th>\n",
       "      <th>Race</th>\n",
       "    </tr>\n",
       "  </thead>\n",
       "  <tbody>\n",
       "    <tr>\n",
       "      <th>0</th>\n",
       "      <td>Accountant I</td>\n",
       "      <td>NaN</td>\n",
       "      <td>F</td>\n",
       "      <td>Married</td>\n",
       "      <td>US Citizen</td>\n",
       "      <td>Active</td>\n",
       "      <td>Admin Offices</td>\n",
       "      <td>674.28</td>\n",
       "      <td>NaN</td>\n",
       "      <td>Black or African American</td>\n",
       "    </tr>\n",
       "    <tr>\n",
       "      <th>1</th>\n",
       "      <td>Accountant I</td>\n",
       "      <td>MA</td>\n",
       "      <td>M</td>\n",
       "      <td>Divorced</td>\n",
       "      <td>US Citizen</td>\n",
       "      <td>Active</td>\n",
       "      <td>Admin Offices</td>\n",
       "      <td>674.28</td>\n",
       "      <td>50.0</td>\n",
       "      <td>Black or African American</td>\n",
       "    </tr>\n",
       "    <tr>\n",
       "      <th>2</th>\n",
       "      <td>Accountant I</td>\n",
       "      <td>MA</td>\n",
       "      <td>M</td>\n",
       "      <td>Single</td>\n",
       "      <td>NaN</td>\n",
       "      <td>Active</td>\n",
       "      <td>Admin Offices</td>\n",
       "      <td>674.28</td>\n",
       "      <td>43.0</td>\n",
       "      <td>White</td>\n",
       "    </tr>\n",
       "    <tr>\n",
       "      <th>3</th>\n",
       "      <td>Administrative Assistant</td>\n",
       "      <td>MA</td>\n",
       "      <td>F</td>\n",
       "      <td>NaN</td>\n",
       "      <td>US Citizen</td>\n",
       "      <td>Terminated for Cause</td>\n",
       "      <td>Admin Offices</td>\n",
       "      <td>47822.00</td>\n",
       "      <td>44.0</td>\n",
       "      <td>NaN</td>\n",
       "    </tr>\n",
       "    <tr>\n",
       "      <th>4</th>\n",
       "      <td>NaN</td>\n",
       "      <td>MA</td>\n",
       "      <td>F</td>\n",
       "      <td>Single</td>\n",
       "      <td>US Citizen</td>\n",
       "      <td>Active</td>\n",
       "      <td>Admin Offices</td>\n",
       "      <td>NaN</td>\n",
       "      <td>33.0</td>\n",
       "      <td>White</td>\n",
       "    </tr>\n",
       "  </tbody>\n",
       "</table>\n",
       "</div>"
      ],
      "text/plain": [
       "                   Position State Sex MaritalDesc CitizenDesc  \\\n",
       "0              Accountant I   NaN   F     Married  US Citizen   \n",
       "1              Accountant I    MA  M     Divorced  US Citizen   \n",
       "2              Accountant I    MA  M       Single         NaN   \n",
       "3  Administrative Assistant    MA   F         NaN  US Citizen   \n",
       "4                       NaN    MA   F      Single  US Citizen   \n",
       "\n",
       "       EmploymentStatus     Department  Salaries   age  \\\n",
       "0                Active  Admin Offices    674.28   NaN   \n",
       "1                Active  Admin Offices    674.28  50.0   \n",
       "2                Active  Admin Offices    674.28  43.0   \n",
       "3  Terminated for Cause  Admin Offices  47822.00  44.0   \n",
       "4                Active  Admin Offices       NaN  33.0   \n",
       "\n",
       "                        Race  \n",
       "0  Black or African American  \n",
       "1  Black or African American  \n",
       "2                      White  \n",
       "3                        NaN  \n",
       "4                      White  "
      ]
     },
     "execution_count": 8,
     "metadata": {},
     "output_type": "execute_result"
    }
   ],
   "source": [
    "dataset.head()"
   ]
  },
  {
   "cell_type": "code",
   "execution_count": 11,
   "id": "950ee5ce-9785-480b-bd11-cfbfdd654223",
   "metadata": {},
   "outputs": [
    {
     "data": {
      "text/plain": [
       "(310, 10)"
      ]
     },
     "execution_count": 11,
     "metadata": {},
     "output_type": "execute_result"
    }
   ],
   "source": [
    "dataset.shape"
   ]
  },
  {
   "cell_type": "code",
   "execution_count": 13,
   "id": "b8cb7665-5d96-4111-9f95-576bd2005d5c",
   "metadata": {},
   "outputs": [
    {
     "name": "stdout",
     "output_type": "stream",
     "text": [
      "<class 'pandas.core.frame.DataFrame'>\n",
      "RangeIndex: 310 entries, 0 to 309\n",
      "Data columns (total 10 columns):\n",
      " #   Column            Non-Null Count  Dtype  \n",
      "---  ------            --------------  -----  \n",
      " 0   Position          267 non-null    object \n",
      " 1   State             275 non-null    object \n",
      " 2   Sex               276 non-null    object \n",
      " 3   MaritalDesc       281 non-null    object \n",
      " 4   CitizenDesc       283 non-null    object \n",
      " 5   EmploymentStatus  278 non-null    object \n",
      " 6   Department        292 non-null    object \n",
      " 7   Salaries          278 non-null    float64\n",
      " 8   age               275 non-null    float64\n",
      " 9   Race              285 non-null    object \n",
      "dtypes: float64(2), object(8)\n",
      "memory usage: 24.3+ KB\n"
     ]
    }
   ],
   "source": [
    "dataset.info()"
   ]
  },
  {
   "cell_type": "code",
   "execution_count": 9,
   "id": "ad7c5c5e-7c89-40b8-9fb3-7428b67a088a",
   "metadata": {},
   "outputs": [],
   "source": [
    "# 1)\tPlease take care of missing data present in the “Data.csv” file using python module \n",
    "# “sklearn.impute” and its methods, also collect all the data that has “Salary” less than “70,000”."
   ]
  },
  {
   "cell_type": "code",
   "execution_count": 22,
   "id": "541423fd-eb23-4a9b-b6a4-4823058b73a8",
   "metadata": {},
   "outputs": [],
   "source": [
    "# sklearnimputer \n",
    "\n",
    "imputer = SimpleImputer(strategy=\"mean\")\n",
    "dataImputer = imputer.fit_transform(dataset[['Salaries']])"
   ]
  },
  {
   "cell_type": "code",
   "execution_count": 23,
   "id": "4d9784ef-7616-4ac6-a03b-de79fe0be7de",
   "metadata": {},
   "outputs": [],
   "source": [
    "dataset['Salaries'] = dataImputer"
   ]
  },
  {
   "cell_type": "code",
   "execution_count": 24,
   "id": "fafa3862-b8e8-41b0-8423-04dce3a82d1f",
   "metadata": {},
   "outputs": [
    {
     "name": "stdout",
     "output_type": "stream",
     "text": [
      "<class 'pandas.core.frame.DataFrame'>\n",
      "RangeIndex: 310 entries, 0 to 309\n",
      "Data columns (total 10 columns):\n",
      " #   Column            Non-Null Count  Dtype  \n",
      "---  ------            --------------  -----  \n",
      " 0   Position          267 non-null    object \n",
      " 1   State             275 non-null    object \n",
      " 2   Sex               276 non-null    object \n",
      " 3   MaritalDesc       281 non-null    object \n",
      " 4   CitizenDesc       283 non-null    object \n",
      " 5   EmploymentStatus  278 non-null    object \n",
      " 6   Department        292 non-null    object \n",
      " 7   Salaries          310 non-null    float64\n",
      " 8   age               275 non-null    float64\n",
      " 9   Race              285 non-null    object \n",
      "dtypes: float64(2), object(8)\n",
      "memory usage: 24.3+ KB\n"
     ]
    }
   ],
   "source": [
    "dataset.info()"
   ]
  },
  {
   "cell_type": "code",
   "execution_count": 26,
   "id": "a462fa57-018f-4b24-b407-b1e99678023b",
   "metadata": {},
   "outputs": [
    {
     "data": {
      "text/html": [
       "<div>\n",
       "<style scoped>\n",
       "    .dataframe tbody tr th:only-of-type {\n",
       "        vertical-align: middle;\n",
       "    }\n",
       "\n",
       "    .dataframe tbody tr th {\n",
       "        vertical-align: top;\n",
       "    }\n",
       "\n",
       "    .dataframe thead th {\n",
       "        text-align: right;\n",
       "    }\n",
       "</style>\n",
       "<table border=\"1\" class=\"dataframe\">\n",
       "  <thead>\n",
       "    <tr style=\"text-align: right;\">\n",
       "      <th></th>\n",
       "      <th>Position</th>\n",
       "      <th>State</th>\n",
       "      <th>Sex</th>\n",
       "      <th>MaritalDesc</th>\n",
       "      <th>CitizenDesc</th>\n",
       "      <th>EmploymentStatus</th>\n",
       "      <th>Department</th>\n",
       "      <th>Salaries</th>\n",
       "      <th>age</th>\n",
       "      <th>Race</th>\n",
       "    </tr>\n",
       "  </thead>\n",
       "  <tbody>\n",
       "    <tr>\n",
       "      <th>0</th>\n",
       "      <td>Accountant I</td>\n",
       "      <td>NaN</td>\n",
       "      <td>F</td>\n",
       "      <td>Married</td>\n",
       "      <td>US Citizen</td>\n",
       "      <td>Active</td>\n",
       "      <td>Admin Offices</td>\n",
       "      <td>674.280000</td>\n",
       "      <td>NaN</td>\n",
       "      <td>Black or African American</td>\n",
       "    </tr>\n",
       "    <tr>\n",
       "      <th>1</th>\n",
       "      <td>Accountant I</td>\n",
       "      <td>MA</td>\n",
       "      <td>M</td>\n",
       "      <td>Divorced</td>\n",
       "      <td>US Citizen</td>\n",
       "      <td>Active</td>\n",
       "      <td>Admin Offices</td>\n",
       "      <td>674.280000</td>\n",
       "      <td>50.0</td>\n",
       "      <td>Black or African American</td>\n",
       "    </tr>\n",
       "    <tr>\n",
       "      <th>2</th>\n",
       "      <td>Accountant I</td>\n",
       "      <td>MA</td>\n",
       "      <td>M</td>\n",
       "      <td>Single</td>\n",
       "      <td>NaN</td>\n",
       "      <td>Active</td>\n",
       "      <td>Admin Offices</td>\n",
       "      <td>674.280000</td>\n",
       "      <td>43.0</td>\n",
       "      <td>White</td>\n",
       "    </tr>\n",
       "    <tr>\n",
       "      <th>3</th>\n",
       "      <td>Administrative Assistant</td>\n",
       "      <td>MA</td>\n",
       "      <td>F</td>\n",
       "      <td>NaN</td>\n",
       "      <td>US Citizen</td>\n",
       "      <td>Terminated for Cause</td>\n",
       "      <td>Admin Offices</td>\n",
       "      <td>47822.000000</td>\n",
       "      <td>44.0</td>\n",
       "      <td>NaN</td>\n",
       "    </tr>\n",
       "    <tr>\n",
       "      <th>4</th>\n",
       "      <td>NaN</td>\n",
       "      <td>MA</td>\n",
       "      <td>F</td>\n",
       "      <td>Single</td>\n",
       "      <td>US Citizen</td>\n",
       "      <td>Active</td>\n",
       "      <td>Admin Offices</td>\n",
       "      <td>36725.396007</td>\n",
       "      <td>33.0</td>\n",
       "      <td>White</td>\n",
       "    </tr>\n",
       "    <tr>\n",
       "      <th>...</th>\n",
       "      <td>...</td>\n",
       "      <td>...</td>\n",
       "      <td>...</td>\n",
       "      <td>...</td>\n",
       "      <td>...</td>\n",
       "      <td>...</td>\n",
       "      <td>...</td>\n",
       "      <td>...</td>\n",
       "      <td>...</td>\n",
       "      <td>...</td>\n",
       "    </tr>\n",
       "    <tr>\n",
       "      <th>305</th>\n",
       "      <td>Sr. Network Engineer</td>\n",
       "      <td>CT</td>\n",
       "      <td>F</td>\n",
       "      <td>Married</td>\n",
       "      <td>US Citizen</td>\n",
       "      <td>Leave of Absence</td>\n",
       "      <td>IT/IS</td>\n",
       "      <td>36725.396007</td>\n",
       "      <td>38.0</td>\n",
       "      <td>White</td>\n",
       "    </tr>\n",
       "    <tr>\n",
       "      <th>306</th>\n",
       "      <td>Sr. Network Engineer</td>\n",
       "      <td>MA</td>\n",
       "      <td>M</td>\n",
       "      <td>Married</td>\n",
       "      <td>US Citizen</td>\n",
       "      <td>Leave of Absence</td>\n",
       "      <td>IT/IS</td>\n",
       "      <td>27603.000000</td>\n",
       "      <td>34.0</td>\n",
       "      <td>White</td>\n",
       "    </tr>\n",
       "    <tr>\n",
       "      <th>307</th>\n",
       "      <td>NaN</td>\n",
       "      <td>MA</td>\n",
       "      <td>M</td>\n",
       "      <td>Married</td>\n",
       "      <td>US Citizen</td>\n",
       "      <td>Future Start</td>\n",
       "      <td>IT/IS</td>\n",
       "      <td>27587.460000</td>\n",
       "      <td>24.0</td>\n",
       "      <td>Asian</td>\n",
       "    </tr>\n",
       "    <tr>\n",
       "      <th>308</th>\n",
       "      <td>Sr. Network Engineer</td>\n",
       "      <td>CT</td>\n",
       "      <td>M</td>\n",
       "      <td>NaN</td>\n",
       "      <td>US Citizen</td>\n",
       "      <td>Active</td>\n",
       "      <td>IT/IS</td>\n",
       "      <td>12126.530000</td>\n",
       "      <td>31.0</td>\n",
       "      <td>White</td>\n",
       "    </tr>\n",
       "    <tr>\n",
       "      <th>309</th>\n",
       "      <td>Sr. Network Engineer</td>\n",
       "      <td>MA</td>\n",
       "      <td>F</td>\n",
       "      <td>Widowed</td>\n",
       "      <td>US Citizen</td>\n",
       "      <td>Active</td>\n",
       "      <td>IT/IS</td>\n",
       "      <td>37257.000000</td>\n",
       "      <td>46.0</td>\n",
       "      <td>Asian</td>\n",
       "    </tr>\n",
       "  </tbody>\n",
       "</table>\n",
       "<p>295 rows × 10 columns</p>\n",
       "</div>"
      ],
      "text/plain": [
       "                     Position State Sex MaritalDesc CitizenDesc  \\\n",
       "0                Accountant I   NaN   F     Married  US Citizen   \n",
       "1                Accountant I    MA  M     Divorced  US Citizen   \n",
       "2                Accountant I    MA  M       Single         NaN   \n",
       "3    Administrative Assistant    MA   F         NaN  US Citizen   \n",
       "4                         NaN    MA   F      Single  US Citizen   \n",
       "..                        ...   ...  ..         ...         ...   \n",
       "305      Sr. Network Engineer    CT   F     Married  US Citizen   \n",
       "306      Sr. Network Engineer    MA  M      Married  US Citizen   \n",
       "307                       NaN    MA  M      Married  US Citizen   \n",
       "308      Sr. Network Engineer    CT  M          NaN  US Citizen   \n",
       "309      Sr. Network Engineer    MA   F     Widowed  US Citizen   \n",
       "\n",
       "         EmploymentStatus     Department      Salaries   age  \\\n",
       "0                  Active  Admin Offices    674.280000   NaN   \n",
       "1                  Active  Admin Offices    674.280000  50.0   \n",
       "2                  Active  Admin Offices    674.280000  43.0   \n",
       "3    Terminated for Cause  Admin Offices  47822.000000  44.0   \n",
       "4                  Active  Admin Offices  36725.396007  33.0   \n",
       "..                    ...            ...           ...   ...   \n",
       "305      Leave of Absence          IT/IS  36725.396007  38.0   \n",
       "306      Leave of Absence          IT/IS  27603.000000  34.0   \n",
       "307          Future Start          IT/IS  27587.460000  24.0   \n",
       "308                Active          IT/IS  12126.530000  31.0   \n",
       "309                Active          IT/IS  37257.000000  46.0   \n",
       "\n",
       "                          Race  \n",
       "0    Black or African American  \n",
       "1    Black or African American  \n",
       "2                        White  \n",
       "3                          NaN  \n",
       "4                        White  \n",
       "..                         ...  \n",
       "305                      White  \n",
       "306                      White  \n",
       "307                      Asian  \n",
       "308                      White  \n",
       "309                      Asian  \n",
       "\n",
       "[295 rows x 10 columns]"
      ]
     },
     "execution_count": 26,
     "metadata": {},
     "output_type": "execute_result"
    }
   ],
   "source": [
    "dataset[dataset['Salaries'] < 70000]"
   ]
  },
  {
   "cell_type": "code",
   "execution_count": null,
   "id": "ae34ca15-73e0-4975-ab97-2954b1839bb7",
   "metadata": {},
   "outputs": [],
   "source": [
    "\"\"\"2)\tSubtracting dates: \n",
    "\n",
    "        Python date objects let us treat calendar dates as something similar to numbers: \n",
    "        we can compare them, sort them, add, and even subtract them. Do math with dates in a way that would be a pain to do by hand. \n",
    "        The 2007 Florida hurricane season was one of the busiest on record, with 8 hurricanes in one year. The first one hit on May 9th, 2007, \n",
    "        and the last one hit on December 13th, 2007. How many days elapsed between the first and last hurricane in 2007?\n",
    "        \n",
    "\tInstructions:\n",
    "\tImport date from datetime.\n",
    "\tCreate a date object for May 9th, 2007, and assign it to the start variable.\n",
    "\tCreate a date object for December 13th, 2007, and assign it to the end variable.\n",
    "\tSubtract start from end, to print the number of days in the resulting timedelta object.\n",
    "\"\"\""
   ]
  },
  {
   "cell_type": "code",
   "execution_count": 28,
   "id": "f94328a4-ad6f-4d87-a213-2be00b493d95",
   "metadata": {},
   "outputs": [],
   "source": [
    "from datetime import date "
   ]
  },
  {
   "cell_type": "code",
   "execution_count": 29,
   "id": "08a770a6-8f5f-4099-a960-22f47689aea0",
   "metadata": {},
   "outputs": [],
   "source": [
    "start = date(2007, 5, 9)\n",
    "end = date(2007, 12, 13)"
   ]
  },
  {
   "cell_type": "code",
   "execution_count": 30,
   "id": "e03e7058-994f-4dd8-932a-41b356101cb3",
   "metadata": {},
   "outputs": [
    {
     "data": {
      "text/plain": [
       "datetime.date(2007, 5, 9)"
      ]
     },
     "execution_count": 30,
     "metadata": {},
     "output_type": "execute_result"
    }
   ],
   "source": [
    "start"
   ]
  },
  {
   "cell_type": "code",
   "execution_count": 31,
   "id": "c1895d6b-dbf7-4fa9-8e7d-42441e2e1a26",
   "metadata": {},
   "outputs": [
    {
     "data": {
      "text/plain": [
       "datetime.date(2007, 12, 13)"
      ]
     },
     "execution_count": 31,
     "metadata": {},
     "output_type": "execute_result"
    }
   ],
   "source": [
    "end"
   ]
  },
  {
   "cell_type": "code",
   "execution_count": 35,
   "id": "68e58a5d-6076-44ea-8099-7f82de34926a",
   "metadata": {},
   "outputs": [],
   "source": [
    "subractDate = end - start"
   ]
  },
  {
   "cell_type": "code",
   "execution_count": 39,
   "id": "8e7782c4-dbae-48e4-af5a-782cbb32fc17",
   "metadata": {},
   "outputs": [
    {
     "name": "stdout",
     "output_type": "stream",
     "text": [
      "Days elapsed between the hurricanes: 218\n"
     ]
    }
   ],
   "source": [
    "print(\"Days elapsed between the hurricanes:\", subractDate.days)"
   ]
  },
  {
   "cell_type": "code",
   "execution_count": null,
   "id": "f8ad5b8c-2c0b-460c-8d38-6f3e75067986",
   "metadata": {},
   "outputs": [],
   "source": [
    "\"\"\"\n",
    "3)\tRepresenting dates in different ways\n",
    "Date objects in Python have a great number of ways they can be printed out as strings. \n",
    "In some cases, you want to know the date in a clear, language-agnostic format.\n",
    "In other cases, you want something which can fit into a paragraph and flow naturally.\n",
    "Print out the same date, August 26, 1992 (the day that Hurricane Andrew made landfall in Florida), \n",
    "in a number of different ways, by using the “ .strftime() ” method. Store it in a variable called “Andrew”. \n",
    "\n",
    "Instructions: \t\n",
    "Print it in the format 'YYYY-MM', 'YYYY-DDD' and 'MONTH (YYYY)'\n",
    "\n",
    "\"\"\"\n"
   ]
  },
  {
   "cell_type": "code",
   "execution_count": 40,
   "id": "ecc2d468-e2ce-4b7a-aa8b-47f2bd7a14e3",
   "metadata": {},
   "outputs": [],
   "source": [
    "andrew = date(1992, 8, 26)"
   ]
  },
  {
   "cell_type": "code",
   "execution_count": 41,
   "id": "0a7c55fd-eeb6-4745-8614-b6cab1943d8c",
   "metadata": {},
   "outputs": [
    {
     "data": {
      "text/plain": [
       "'1992-08'"
      ]
     },
     "execution_count": 41,
     "metadata": {},
     "output_type": "execute_result"
    }
   ],
   "source": [
    "andrew.strftime(\"%Y-%m\")"
   ]
  },
  {
   "cell_type": "code",
   "execution_count": 43,
   "id": "2a01804b-2703-4658-b10b-da4dfd3db29c",
   "metadata": {},
   "outputs": [
    {
     "data": {
      "text/plain": [
       "'1992-26'"
      ]
     },
     "execution_count": 43,
     "metadata": {},
     "output_type": "execute_result"
    }
   ],
   "source": [
    "andrew.strftime(\"%Y-%d\")"
   ]
  },
  {
   "cell_type": "code",
   "execution_count": 46,
   "id": "a2699740-1a33-470f-9858-4c6a0087cbb0",
   "metadata": {},
   "outputs": [
    {
     "data": {
      "text/plain": [
       "'August-1992'"
      ]
     },
     "execution_count": 46,
     "metadata": {},
     "output_type": "execute_result"
    }
   ],
   "source": [
    "andrew.strftime(\"%B-%Y\")"
   ]
  },
  {
   "cell_type": "code",
   "execution_count": null,
   "id": "186d7c61-7f12-4017-a200-d8f48676cb5c",
   "metadata": {},
   "outputs": [],
   "source": [
    "\"\"\"\n",
    "4)\tFor the dataset “Indian_cities”, \n",
    "a)\tFind out top 10 states in female-male sex ratio\n",
    "b)\tFind out top 10 cities in total number of graduates\n",
    "c)\tFind out top 10 cities and their locations in respect of  total effective_literacy_rate.\n",
    "\n",
    "\"\"\""
   ]
  },
  {
   "cell_type": "code",
   "execution_count": 47,
   "id": "f41b6b99-7498-41ac-9d00-99bf447d7b5a",
   "metadata": {},
   "outputs": [],
   "source": [
    "dataset = pd.read_csv(r\"E:\\Data Container\\Indian_cities.csv\")"
   ]
  },
  {
   "cell_type": "code",
   "execution_count": 48,
   "id": "bccad9fb-2c77-4437-935e-9d6f2d64c4c6",
   "metadata": {},
   "outputs": [
    {
     "data": {
      "text/html": [
       "<div>\n",
       "<style scoped>\n",
       "    .dataframe tbody tr th:only-of-type {\n",
       "        vertical-align: middle;\n",
       "    }\n",
       "\n",
       "    .dataframe tbody tr th {\n",
       "        vertical-align: top;\n",
       "    }\n",
       "\n",
       "    .dataframe thead th {\n",
       "        text-align: right;\n",
       "    }\n",
       "</style>\n",
       "<table border=\"1\" class=\"dataframe\">\n",
       "  <thead>\n",
       "    <tr style=\"text-align: right;\">\n",
       "      <th></th>\n",
       "      <th>name_of_city</th>\n",
       "      <th>state_code</th>\n",
       "      <th>state_name</th>\n",
       "      <th>dist_code</th>\n",
       "      <th>population_total</th>\n",
       "      <th>population_male</th>\n",
       "      <th>population_female</th>\n",
       "      <th>0-6_population_total</th>\n",
       "      <th>0-6_population_male</th>\n",
       "      <th>0-6_population_female</th>\n",
       "      <th>...</th>\n",
       "      <th>literates_female</th>\n",
       "      <th>sex_ratio</th>\n",
       "      <th>child_sex_ratio</th>\n",
       "      <th>effective_literacy_rate_total</th>\n",
       "      <th>effective_literacy_rate_male</th>\n",
       "      <th>effective_literacy_rate_female</th>\n",
       "      <th>location</th>\n",
       "      <th>total_graduates</th>\n",
       "      <th>male_graduates</th>\n",
       "      <th>female_graduates</th>\n",
       "    </tr>\n",
       "  </thead>\n",
       "  <tbody>\n",
       "    <tr>\n",
       "      <th>0</th>\n",
       "      <td>Abohar</td>\n",
       "      <td>3</td>\n",
       "      <td>PUNJAB</td>\n",
       "      <td>9</td>\n",
       "      <td>145238</td>\n",
       "      <td>76840</td>\n",
       "      <td>68398</td>\n",
       "      <td>15870</td>\n",
       "      <td>8587</td>\n",
       "      <td>7283</td>\n",
       "      <td>...</td>\n",
       "      <td>44972</td>\n",
       "      <td>890</td>\n",
       "      <td>848</td>\n",
       "      <td>79.86</td>\n",
       "      <td>85.49</td>\n",
       "      <td>73.59</td>\n",
       "      <td>30.1452928,74.1993043</td>\n",
       "      <td>16287</td>\n",
       "      <td>8612</td>\n",
       "      <td>7675</td>\n",
       "    </tr>\n",
       "    <tr>\n",
       "      <th>1</th>\n",
       "      <td>Achalpur</td>\n",
       "      <td>27</td>\n",
       "      <td>MAHARASHTRA</td>\n",
       "      <td>7</td>\n",
       "      <td>112293</td>\n",
       "      <td>58256</td>\n",
       "      <td>54037</td>\n",
       "      <td>11810</td>\n",
       "      <td>6186</td>\n",
       "      <td>5624</td>\n",
       "      <td>...</td>\n",
       "      <td>43086</td>\n",
       "      <td>928</td>\n",
       "      <td>909</td>\n",
       "      <td>91.99</td>\n",
       "      <td>94.77</td>\n",
       "      <td>89.00</td>\n",
       "      <td>21.257584,77.5086754</td>\n",
       "      <td>8863</td>\n",
       "      <td>5269</td>\n",
       "      <td>3594</td>\n",
       "    </tr>\n",
       "    <tr>\n",
       "      <th>2</th>\n",
       "      <td>Adilabad</td>\n",
       "      <td>28</td>\n",
       "      <td>ANDHRA PRADESH</td>\n",
       "      <td>1</td>\n",
       "      <td>117388</td>\n",
       "      <td>59232</td>\n",
       "      <td>58156</td>\n",
       "      <td>13103</td>\n",
       "      <td>6731</td>\n",
       "      <td>6372</td>\n",
       "      <td>...</td>\n",
       "      <td>37660</td>\n",
       "      <td>982</td>\n",
       "      <td>947</td>\n",
       "      <td>80.51</td>\n",
       "      <td>88.18</td>\n",
       "      <td>72.73</td>\n",
       "      <td>19.0809075,79.560344</td>\n",
       "      <td>10565</td>\n",
       "      <td>6797</td>\n",
       "      <td>3768</td>\n",
       "    </tr>\n",
       "    <tr>\n",
       "      <th>3</th>\n",
       "      <td>Adityapur</td>\n",
       "      <td>20</td>\n",
       "      <td>JHARKHAND</td>\n",
       "      <td>24</td>\n",
       "      <td>173988</td>\n",
       "      <td>91495</td>\n",
       "      <td>82493</td>\n",
       "      <td>23042</td>\n",
       "      <td>12063</td>\n",
       "      <td>10979</td>\n",
       "      <td>...</td>\n",
       "      <td>54515</td>\n",
       "      <td>902</td>\n",
       "      <td>910</td>\n",
       "      <td>83.46</td>\n",
       "      <td>89.98</td>\n",
       "      <td>76.23</td>\n",
       "      <td>22.7834741,86.1576889</td>\n",
       "      <td>19225</td>\n",
       "      <td>12189</td>\n",
       "      <td>7036</td>\n",
       "    </tr>\n",
       "    <tr>\n",
       "      <th>4</th>\n",
       "      <td>Adoni</td>\n",
       "      <td>28</td>\n",
       "      <td>ANDHRA PRADESH</td>\n",
       "      <td>21</td>\n",
       "      <td>166537</td>\n",
       "      <td>82743</td>\n",
       "      <td>83794</td>\n",
       "      <td>18406</td>\n",
       "      <td>9355</td>\n",
       "      <td>9051</td>\n",
       "      <td>...</td>\n",
       "      <td>45089</td>\n",
       "      <td>1013</td>\n",
       "      <td>968</td>\n",
       "      <td>68.38</td>\n",
       "      <td>76.58</td>\n",
       "      <td>60.33</td>\n",
       "      <td>15.6322227,77.2728368</td>\n",
       "      <td>11902</td>\n",
       "      <td>7871</td>\n",
       "      <td>4031</td>\n",
       "    </tr>\n",
       "  </tbody>\n",
       "</table>\n",
       "<p>5 rows × 22 columns</p>\n",
       "</div>"
      ],
      "text/plain": [
       "  name_of_city  state_code      state_name  dist_code  population_total  \\\n",
       "0      Abohar            3          PUNJAB          9            145238   \n",
       "1    Achalpur           27     MAHARASHTRA          7            112293   \n",
       "2    Adilabad           28  ANDHRA PRADESH          1            117388   \n",
       "3   Adityapur           20       JHARKHAND         24            173988   \n",
       "4       Adoni           28  ANDHRA PRADESH         21            166537   \n",
       "\n",
       "   population_male  population_female  0-6_population_total  \\\n",
       "0            76840              68398                 15870   \n",
       "1            58256              54037                 11810   \n",
       "2            59232              58156                 13103   \n",
       "3            91495              82493                 23042   \n",
       "4            82743              83794                 18406   \n",
       "\n",
       "   0-6_population_male  0-6_population_female  ...  literates_female  \\\n",
       "0                 8587                   7283  ...             44972   \n",
       "1                 6186                   5624  ...             43086   \n",
       "2                 6731                   6372  ...             37660   \n",
       "3                12063                  10979  ...             54515   \n",
       "4                 9355                   9051  ...             45089   \n",
       "\n",
       "   sex_ratio  child_sex_ratio  effective_literacy_rate_total  \\\n",
       "0        890              848                          79.86   \n",
       "1        928              909                          91.99   \n",
       "2        982              947                          80.51   \n",
       "3        902              910                          83.46   \n",
       "4       1013              968                          68.38   \n",
       "\n",
       "   effective_literacy_rate_male  effective_literacy_rate_female  \\\n",
       "0                         85.49                           73.59   \n",
       "1                         94.77                           89.00   \n",
       "2                         88.18                           72.73   \n",
       "3                         89.98                           76.23   \n",
       "4                         76.58                           60.33   \n",
       "\n",
       "                location  total_graduates male_graduates  female_graduates  \n",
       "0  30.1452928,74.1993043            16287           8612              7675  \n",
       "1   21.257584,77.5086754             8863           5269              3594  \n",
       "2   19.0809075,79.560344            10565           6797              3768  \n",
       "3  22.7834741,86.1576889            19225          12189              7036  \n",
       "4  15.6322227,77.2728368            11902           7871              4031  \n",
       "\n",
       "[5 rows x 22 columns]"
      ]
     },
     "execution_count": 48,
     "metadata": {},
     "output_type": "execute_result"
    }
   ],
   "source": [
    "dataset.head()"
   ]
  },
  {
   "cell_type": "code",
   "execution_count": 49,
   "id": "e23e591d-f9b0-432d-b68f-b7fe9778485b",
   "metadata": {},
   "outputs": [
    {
     "name": "stdout",
     "output_type": "stream",
     "text": [
      "<class 'pandas.core.frame.DataFrame'>\n",
      "RangeIndex: 493 entries, 0 to 492\n",
      "Data columns (total 22 columns):\n",
      " #   Column                          Non-Null Count  Dtype  \n",
      "---  ------                          --------------  -----  \n",
      " 0   name_of_city                    493 non-null    object \n",
      " 1   state_code                      493 non-null    int64  \n",
      " 2   state_name                      493 non-null    object \n",
      " 3   dist_code                       493 non-null    int64  \n",
      " 4   population_total                493 non-null    int64  \n",
      " 5   population_male                 493 non-null    int64  \n",
      " 6   population_female               493 non-null    int64  \n",
      " 7   0-6_population_total            493 non-null    int64  \n",
      " 8   0-6_population_male             493 non-null    int64  \n",
      " 9   0-6_population_female           493 non-null    int64  \n",
      " 10  literates_total                 493 non-null    int64  \n",
      " 11  literates_male                  493 non-null    int64  \n",
      " 12  literates_female                493 non-null    int64  \n",
      " 13  sex_ratio                       493 non-null    int64  \n",
      " 14  child_sex_ratio                 493 non-null    int64  \n",
      " 15  effective_literacy_rate_total   493 non-null    float64\n",
      " 16  effective_literacy_rate_male    493 non-null    float64\n",
      " 17  effective_literacy_rate_female  493 non-null    float64\n",
      " 18  location                        493 non-null    object \n",
      " 19  total_graduates                 493 non-null    int64  \n",
      " 20  male_graduates                  493 non-null    int64  \n",
      " 21  female_graduates                493 non-null    int64  \n",
      "dtypes: float64(3), int64(16), object(3)\n",
      "memory usage: 84.9+ KB\n"
     ]
    }
   ],
   "source": [
    "dataset.info()"
   ]
  },
  {
   "cell_type": "code",
   "execution_count": 53,
   "id": "83cb09c5-dbc3-466d-b69d-484d869d478a",
   "metadata": {},
   "outputs": [
    {
     "data": {
      "text/html": [
       "<div>\n",
       "<style scoped>\n",
       "    .dataframe tbody tr th:only-of-type {\n",
       "        vertical-align: middle;\n",
       "    }\n",
       "\n",
       "    .dataframe tbody tr th {\n",
       "        vertical-align: top;\n",
       "    }\n",
       "\n",
       "    .dataframe thead th {\n",
       "        text-align: right;\n",
       "    }\n",
       "</style>\n",
       "<table border=\"1\" class=\"dataframe\">\n",
       "  <thead>\n",
       "    <tr style=\"text-align: right;\">\n",
       "      <th></th>\n",
       "      <th>state_name</th>\n",
       "      <th>sex_ratio</th>\n",
       "    </tr>\n",
       "  </thead>\n",
       "  <tbody>\n",
       "    <tr>\n",
       "      <th>0</th>\n",
       "      <td>PUNJAB</td>\n",
       "      <td>890</td>\n",
       "    </tr>\n",
       "    <tr>\n",
       "      <th>1</th>\n",
       "      <td>MAHARASHTRA</td>\n",
       "      <td>928</td>\n",
       "    </tr>\n",
       "    <tr>\n",
       "      <th>2</th>\n",
       "      <td>ANDHRA PRADESH</td>\n",
       "      <td>982</td>\n",
       "    </tr>\n",
       "    <tr>\n",
       "      <th>3</th>\n",
       "      <td>JHARKHAND</td>\n",
       "      <td>902</td>\n",
       "    </tr>\n",
       "    <tr>\n",
       "      <th>4</th>\n",
       "      <td>ANDHRA PRADESH</td>\n",
       "      <td>1013</td>\n",
       "    </tr>\n",
       "    <tr>\n",
       "      <th>...</th>\n",
       "      <td>...</td>\n",
       "      <td>...</td>\n",
       "    </tr>\n",
       "    <tr>\n",
       "      <th>488</th>\n",
       "      <td>ANDHRA PRADESH</td>\n",
       "      <td>1039</td>\n",
       "    </tr>\n",
       "    <tr>\n",
       "      <th>489</th>\n",
       "      <td>ANDHRA PRADESH</td>\n",
       "      <td>998</td>\n",
       "    </tr>\n",
       "    <tr>\n",
       "      <th>490</th>\n",
       "      <td>MAHARASHTRA</td>\n",
       "      <td>982</td>\n",
       "    </tr>\n",
       "    <tr>\n",
       "      <th>491</th>\n",
       "      <td>HARYANA</td>\n",
       "      <td>877</td>\n",
       "    </tr>\n",
       "    <tr>\n",
       "      <th>492</th>\n",
       "      <td>MAHARASHTRA</td>\n",
       "      <td>988</td>\n",
       "    </tr>\n",
       "  </tbody>\n",
       "</table>\n",
       "<p>493 rows × 2 columns</p>\n",
       "</div>"
      ],
      "text/plain": [
       "         state_name  sex_ratio\n",
       "0            PUNJAB        890\n",
       "1       MAHARASHTRA        928\n",
       "2    ANDHRA PRADESH        982\n",
       "3         JHARKHAND        902\n",
       "4    ANDHRA PRADESH       1013\n",
       "..              ...        ...\n",
       "488  ANDHRA PRADESH       1039\n",
       "489  ANDHRA PRADESH        998\n",
       "490     MAHARASHTRA        982\n",
       "491         HARYANA        877\n",
       "492     MAHARASHTRA        988\n",
       "\n",
       "[493 rows x 2 columns]"
      ]
     },
     "execution_count": 53,
     "metadata": {},
     "output_type": "execute_result"
    }
   ],
   "source": [
    "dataset[['state_name', 'sex_ratio']]"
   ]
  },
  {
   "cell_type": "code",
   "execution_count": 60,
   "id": "f36421b2-549d-4652-aaee-12c7b378dd9e",
   "metadata": {},
   "outputs": [
    {
     "data": {
      "text/plain": [
       "Index([278, 275, 14, 461, 459, 220, 358, 245, 378, 430], dtype='int64')"
      ]
     },
     "execution_count": 60,
     "metadata": {},
     "output_type": "execute_result"
    }
   ],
   "source": []
  },
  {
   "cell_type": "code",
   "execution_count": 66,
   "id": "e437bba8-f9d8-4256-b179-3782f40a23f2",
   "metadata": {},
   "outputs": [
    {
     "data": {
      "text/plain": [
       "278            KERALA\n",
       "275            KERALA\n",
       "14             KERALA\n",
       "461            KERALA\n",
       "459            KERALA\n",
       "220          MANIPUR \n",
       "358            KERALA\n",
       "245    ANDHRA PRADESH\n",
       "378        PUDUCHERRY\n",
       "430         MEGHALAYA\n",
       "Name: state_name, dtype: object"
      ]
     },
     "execution_count": 66,
     "metadata": {},
     "output_type": "execute_result"
    }
   ],
   "source": [
    "dataset.iloc[dataset['sex_ratio'].sort_values(ascending=False).head(10).index]['state_name']"
   ]
  },
  {
   "cell_type": "code",
   "execution_count": 71,
   "id": "b1665b63-adc0-460a-8d4a-51b47fddf53d",
   "metadata": {},
   "outputs": [],
   "source": [
    "# Find out top 10 states in female-male sex ratio\n",
    "groupState = dataset.groupby('state_name').sum()"
   ]
  },
  {
   "cell_type": "code",
   "execution_count": 75,
   "id": "cd5a3e8d-026f-479d-bc13-cd28ddc2c0c9",
   "metadata": {
    "scrolled": true
   },
   "outputs": [
    {
     "data": {
      "text/html": [
       "<div>\n",
       "<style scoped>\n",
       "    .dataframe tbody tr th:only-of-type {\n",
       "        vertical-align: middle;\n",
       "    }\n",
       "\n",
       "    .dataframe tbody tr th {\n",
       "        vertical-align: top;\n",
       "    }\n",
       "\n",
       "    .dataframe thead th {\n",
       "        text-align: right;\n",
       "    }\n",
       "</style>\n",
       "<table border=\"1\" class=\"dataframe\">\n",
       "  <thead>\n",
       "    <tr style=\"text-align: right;\">\n",
       "      <th></th>\n",
       "      <th>sex_ratio</th>\n",
       "    </tr>\n",
       "    <tr>\n",
       "      <th>state_name</th>\n",
       "      <th></th>\n",
       "    </tr>\n",
       "  </thead>\n",
       "  <tbody>\n",
       "    <tr>\n",
       "      <th>ANDAMAN &amp; NICOBAR ISLANDS</th>\n",
       "      <td>889</td>\n",
       "    </tr>\n",
       "    <tr>\n",
       "      <th>ANDHRA PRADESH</th>\n",
       "      <td>41975</td>\n",
       "    </tr>\n",
       "    <tr>\n",
       "      <th>ASSAM</th>\n",
       "      <td>3803</td>\n",
       "    </tr>\n",
       "    <tr>\n",
       "      <th>BIHAR</th>\n",
       "      <td>23085</td>\n",
       "    </tr>\n",
       "    <tr>\n",
       "      <th>CHANDIGARH</th>\n",
       "      <td>829</td>\n",
       "    </tr>\n",
       "    <tr>\n",
       "      <th>CHHATTISGARH</th>\n",
       "      <td>8552</td>\n",
       "    </tr>\n",
       "    <tr>\n",
       "      <th>GUJARAT</th>\n",
       "      <td>26482</td>\n",
       "    </tr>\n",
       "    <tr>\n",
       "      <th>HARYANA</th>\n",
       "      <td>17516</td>\n",
       "    </tr>\n",
       "    <tr>\n",
       "      <th>HIMACHAL PRADESH</th>\n",
       "      <td>818</td>\n",
       "    </tr>\n",
       "    <tr>\n",
       "      <th>JAMMU &amp; KASHMIR</th>\n",
       "      <td>2723</td>\n",
       "    </tr>\n",
       "    <tr>\n",
       "      <th>JHARKHAND</th>\n",
       "      <td>9030</td>\n",
       "    </tr>\n",
       "    <tr>\n",
       "      <th>KARNATAKA</th>\n",
       "      <td>25665</td>\n",
       "    </tr>\n",
       "    <tr>\n",
       "      <th>KERALA</th>\n",
       "      <td>7467</td>\n",
       "    </tr>\n",
       "    <tr>\n",
       "      <th>MADHYA PRADESH</th>\n",
       "      <td>29274</td>\n",
       "    </tr>\n",
       "    <tr>\n",
       "      <th>MAHARASHTRA</th>\n",
       "      <td>39582</td>\n",
       "    </tr>\n",
       "    <tr>\n",
       "      <th>MANIPUR</th>\n",
       "      <td>1055</td>\n",
       "    </tr>\n",
       "    <tr>\n",
       "      <th>MEGHALAYA</th>\n",
       "      <td>1042</td>\n",
       "    </tr>\n",
       "    <tr>\n",
       "      <th>MIZORAM</th>\n",
       "      <td>1029</td>\n",
       "    </tr>\n",
       "    <tr>\n",
       "      <th>NAGALAND</th>\n",
       "      <td>904</td>\n",
       "    </tr>\n",
       "    <tr>\n",
       "      <th>NCT OF DELHI</th>\n",
       "      <td>12923</td>\n",
       "    </tr>\n",
       "    <tr>\n",
       "      <th>ORISSA</th>\n",
       "      <td>9303</td>\n",
       "    </tr>\n",
       "    <tr>\n",
       "      <th>PUDUCHERRY</th>\n",
       "      <td>2070</td>\n",
       "    </tr>\n",
       "    <tr>\n",
       "      <th>PUNJAB</th>\n",
       "      <td>14193</td>\n",
       "    </tr>\n",
       "    <tr>\n",
       "      <th>RAJASTHAN</th>\n",
       "      <td>26347</td>\n",
       "    </tr>\n",
       "    <tr>\n",
       "      <th>TAMIL NADU</th>\n",
       "      <td>32033</td>\n",
       "    </tr>\n",
       "    <tr>\n",
       "      <th>TRIPURA</th>\n",
       "      <td>1002</td>\n",
       "    </tr>\n",
       "    <tr>\n",
       "      <th>UTTAR PRADESH</th>\n",
       "      <td>56151</td>\n",
       "    </tr>\n",
       "    <tr>\n",
       "      <th>UTTARAKHAND</th>\n",
       "      <td>5354</td>\n",
       "    </tr>\n",
       "    <tr>\n",
       "      <th>WEST BENGAL</th>\n",
       "      <td>57539</td>\n",
       "    </tr>\n",
       "  </tbody>\n",
       "</table>\n",
       "</div>"
      ],
      "text/plain": [
       "                           sex_ratio\n",
       "state_name                          \n",
       "ANDAMAN & NICOBAR ISLANDS        889\n",
       "ANDHRA PRADESH                 41975\n",
       "ASSAM                           3803\n",
       "BIHAR                          23085\n",
       "CHANDIGARH                       829\n",
       "CHHATTISGARH                    8552\n",
       "GUJARAT                        26482\n",
       "HARYANA                        17516\n",
       "HIMACHAL PRADESH                 818\n",
       "JAMMU & KASHMIR                 2723\n",
       "JHARKHAND                       9030\n",
       "KARNATAKA                      25665\n",
       "KERALA                          7467\n",
       "MADHYA PRADESH                 29274\n",
       "MAHARASHTRA                    39582\n",
       "MANIPUR                         1055\n",
       "MEGHALAYA                       1042\n",
       "MIZORAM                         1029\n",
       "NAGALAND                         904\n",
       "NCT OF DELHI                   12923\n",
       "ORISSA                          9303\n",
       "PUDUCHERRY                      2070\n",
       "PUNJAB                         14193\n",
       "RAJASTHAN                      26347\n",
       "TAMIL NADU                     32033\n",
       "TRIPURA                         1002\n",
       "UTTAR PRADESH                  56151\n",
       "UTTARAKHAND                     5354\n",
       "WEST BENGAL                    57539"
      ]
     },
     "execution_count": 75,
     "metadata": {},
     "output_type": "execute_result"
    }
   ],
   "source": [
    "groupState[['sex_ratio']]"
   ]
  },
  {
   "cell_type": "code",
   "execution_count": 78,
   "id": "39437c4b-c4c0-4767-a86c-d0798906a732",
   "metadata": {
    "scrolled": true
   },
   "outputs": [
    {
     "data": {
      "text/html": [
       "<div>\n",
       "<style scoped>\n",
       "    .dataframe tbody tr th:only-of-type {\n",
       "        vertical-align: middle;\n",
       "    }\n",
       "\n",
       "    .dataframe tbody tr th {\n",
       "        vertical-align: top;\n",
       "    }\n",
       "\n",
       "    .dataframe thead th {\n",
       "        text-align: right;\n",
       "    }\n",
       "</style>\n",
       "<table border=\"1\" class=\"dataframe\">\n",
       "  <thead>\n",
       "    <tr style=\"text-align: right;\">\n",
       "      <th></th>\n",
       "      <th>sex_ratio</th>\n",
       "    </tr>\n",
       "    <tr>\n",
       "      <th>state_name</th>\n",
       "      <th></th>\n",
       "    </tr>\n",
       "  </thead>\n",
       "  <tbody>\n",
       "    <tr>\n",
       "      <th>WEST BENGAL</th>\n",
       "      <td>57539</td>\n",
       "    </tr>\n",
       "    <tr>\n",
       "      <th>UTTAR PRADESH</th>\n",
       "      <td>56151</td>\n",
       "    </tr>\n",
       "    <tr>\n",
       "      <th>ANDHRA PRADESH</th>\n",
       "      <td>41975</td>\n",
       "    </tr>\n",
       "    <tr>\n",
       "      <th>MAHARASHTRA</th>\n",
       "      <td>39582</td>\n",
       "    </tr>\n",
       "    <tr>\n",
       "      <th>TAMIL NADU</th>\n",
       "      <td>32033</td>\n",
       "    </tr>\n",
       "    <tr>\n",
       "      <th>MADHYA PRADESH</th>\n",
       "      <td>29274</td>\n",
       "    </tr>\n",
       "    <tr>\n",
       "      <th>GUJARAT</th>\n",
       "      <td>26482</td>\n",
       "    </tr>\n",
       "    <tr>\n",
       "      <th>RAJASTHAN</th>\n",
       "      <td>26347</td>\n",
       "    </tr>\n",
       "    <tr>\n",
       "      <th>KARNATAKA</th>\n",
       "      <td>25665</td>\n",
       "    </tr>\n",
       "    <tr>\n",
       "      <th>BIHAR</th>\n",
       "      <td>23085</td>\n",
       "    </tr>\n",
       "  </tbody>\n",
       "</table>\n",
       "</div>"
      ],
      "text/plain": [
       "                sex_ratio\n",
       "state_name               \n",
       "WEST BENGAL         57539\n",
       "UTTAR PRADESH       56151\n",
       "ANDHRA PRADESH      41975\n",
       "MAHARASHTRA         39582\n",
       "TAMIL NADU          32033\n",
       "MADHYA PRADESH      29274\n",
       "GUJARAT             26482\n",
       "RAJASTHAN           26347\n",
       "KARNATAKA           25665\n",
       "BIHAR               23085"
      ]
     },
     "execution_count": 78,
     "metadata": {},
     "output_type": "execute_result"
    }
   ],
   "source": [
    "groupState[['sex_ratio']].sort_values('sex_ratio', ascending= False).head(10)"
   ]
  },
  {
   "cell_type": "code",
   "execution_count": 86,
   "id": "5945695a-6227-4b9c-a7a4-412393ca12dd",
   "metadata": {},
   "outputs": [],
   "source": [
    "# Find out top 10 cities in total number of graduates\n",
    "groupCity = dataset.groupby('name_of_city').sum()"
   ]
  },
  {
   "cell_type": "code",
   "execution_count": 82,
   "id": "569b7bc1-13b1-45c2-84de-76296ad46a21",
   "metadata": {},
   "outputs": [
    {
     "data": {
      "text/plain": [
       "Index(['Abohar ', 'Achalpur ', 'Adilabad ', 'Adityapur ', 'Adoni ',\n",
       "       'Agartala ', 'Agra ', 'Ahmadabad ', 'Ahmadnagar ', 'Aizawl ',\n",
       "       ...\n",
       "       'Vellore ', 'Veraval ', 'Vidisha ', 'Vijayawada ', 'Visakhapatnam',\n",
       "       'Vizianagaram ', 'Warangal ', 'Wardha ', 'Yamunanagar ', 'Yavatmal '],\n",
       "      dtype='object', name='name_of_city', length=492)"
      ]
     },
     "execution_count": 82,
     "metadata": {},
     "output_type": "execute_result"
    }
   ],
   "source": [
    "groupCity.index"
   ]
  },
  {
   "cell_type": "code",
   "execution_count": 87,
   "id": "e6996fa2-fb57-4d24-83a5-e6148b415c79",
   "metadata": {
    "scrolled": true
   },
   "outputs": [
    {
     "data": {
      "text/html": [
       "<div>\n",
       "<style scoped>\n",
       "    .dataframe tbody tr th:only-of-type {\n",
       "        vertical-align: middle;\n",
       "    }\n",
       "\n",
       "    .dataframe tbody tr th {\n",
       "        vertical-align: top;\n",
       "    }\n",
       "\n",
       "    .dataframe thead th {\n",
       "        text-align: right;\n",
       "    }\n",
       "</style>\n",
       "<table border=\"1\" class=\"dataframe\">\n",
       "  <thead>\n",
       "    <tr style=\"text-align: right;\">\n",
       "      <th></th>\n",
       "      <th>total_graduates</th>\n",
       "    </tr>\n",
       "    <tr>\n",
       "      <th>state_name</th>\n",
       "      <th></th>\n",
       "    </tr>\n",
       "  </thead>\n",
       "  <tbody>\n",
       "    <tr>\n",
       "      <th>MAHARASHTRA</th>\n",
       "      <td>5266151</td>\n",
       "    </tr>\n",
       "    <tr>\n",
       "      <th>UTTAR PRADESH</th>\n",
       "      <td>3692166</td>\n",
       "    </tr>\n",
       "    <tr>\n",
       "      <th>ANDHRA PRADESH</th>\n",
       "      <td>2751351</td>\n",
       "    </tr>\n",
       "    <tr>\n",
       "      <th>WEST BENGAL</th>\n",
       "      <td>2668776</td>\n",
       "    </tr>\n",
       "    <tr>\n",
       "      <th>KARNATAKA</th>\n",
       "      <td>2495820</td>\n",
       "    </tr>\n",
       "    <tr>\n",
       "      <th>NCT OF DELHI</th>\n",
       "      <td>2444280</td>\n",
       "    </tr>\n",
       "    <tr>\n",
       "      <th>TAMIL NADU</th>\n",
       "      <td>2144970</td>\n",
       "    </tr>\n",
       "    <tr>\n",
       "      <th>GUJARAT</th>\n",
       "      <td>1994347</td>\n",
       "    </tr>\n",
       "    <tr>\n",
       "      <th>MADHYA PRADESH</th>\n",
       "      <td>1592833</td>\n",
       "    </tr>\n",
       "    <tr>\n",
       "      <th>RAJASTHAN</th>\n",
       "      <td>1447819</td>\n",
       "    </tr>\n",
       "  </tbody>\n",
       "</table>\n",
       "</div>"
      ],
      "text/plain": [
       "                total_graduates\n",
       "state_name                     \n",
       "MAHARASHTRA             5266151\n",
       "UTTAR PRADESH           3692166\n",
       "ANDHRA PRADESH          2751351\n",
       "WEST BENGAL             2668776\n",
       "KARNATAKA               2495820\n",
       "NCT OF DELHI            2444280\n",
       "TAMIL NADU              2144970\n",
       "GUJARAT                 1994347\n",
       "MADHYA PRADESH          1592833\n",
       "RAJASTHAN               1447819"
      ]
     },
     "execution_count": 87,
     "metadata": {},
     "output_type": "execute_result"
    }
   ],
   "source": [
    "groupState[['total_graduates']].sort_values('total_graduates', ascending=False).head(10)"
   ]
  },
  {
   "cell_type": "code",
   "execution_count": 88,
   "id": "ff315ff9-5397-4ea0-a8cb-9cc8b9c767e5",
   "metadata": {},
   "outputs": [],
   "source": [
    "# Find out top 10 cities and their locations in respect of  total effective_literacy_rate"
   ]
  },
  {
   "cell_type": "code",
   "execution_count": 106,
   "id": "9d258a65-c998-4bfc-b436-3bcda67442d5",
   "metadata": {},
   "outputs": [
    {
     "data": {
      "text/html": [
       "<div>\n",
       "<style scoped>\n",
       "    .dataframe tbody tr th:only-of-type {\n",
       "        vertical-align: middle;\n",
       "    }\n",
       "\n",
       "    .dataframe tbody tr th {\n",
       "        vertical-align: top;\n",
       "    }\n",
       "\n",
       "    .dataframe thead th {\n",
       "        text-align: right;\n",
       "    }\n",
       "</style>\n",
       "<table border=\"1\" class=\"dataframe\">\n",
       "  <thead>\n",
       "    <tr style=\"text-align: right;\">\n",
       "      <th></th>\n",
       "      <th>name_of_city</th>\n",
       "      <th>location</th>\n",
       "    </tr>\n",
       "  </thead>\n",
       "  <tbody>\n",
       "    <tr>\n",
       "      <th>9</th>\n",
       "      <td>Aizawl</td>\n",
       "      <td>23.727107,92.7176389</td>\n",
       "    </tr>\n",
       "    <tr>\n",
       "      <th>271</th>\n",
       "      <td>Kochi</td>\n",
       "      <td>9.9312328,76.2673041</td>\n",
       "    </tr>\n",
       "    <tr>\n",
       "      <th>461</th>\n",
       "      <td>Thrissur</td>\n",
       "      <td>10.5276416,76.2144349</td>\n",
       "    </tr>\n",
       "    <tr>\n",
       "      <th>278</th>\n",
       "      <td>Kozhikode</td>\n",
       "      <td>11.2587531,75.78041</td>\n",
       "    </tr>\n",
       "    <tr>\n",
       "      <th>14</th>\n",
       "      <td>Alappuzha</td>\n",
       "      <td>9.4980667,76.3388484</td>\n",
       "    </tr>\n",
       "    <tr>\n",
       "      <th>264</th>\n",
       "      <td>Khardaha</td>\n",
       "      <td>22.7002943,88.3753455</td>\n",
       "    </tr>\n",
       "    <tr>\n",
       "      <th>333</th>\n",
       "      <td>Nagercoil</td>\n",
       "      <td>8.1832857,77.4118996</td>\n",
       "    </tr>\n",
       "    <tr>\n",
       "      <th>13</th>\n",
       "      <td>Alandur</td>\n",
       "      <td>12.9974873,80.2006371</td>\n",
       "    </tr>\n",
       "    <tr>\n",
       "      <th>352</th>\n",
       "      <td>North Barrackpur</td>\n",
       "      <td>22.7902358,88.367179</td>\n",
       "    </tr>\n",
       "    <tr>\n",
       "      <th>431</th>\n",
       "      <td>Shimla</td>\n",
       "      <td>31.1048145,77.1734033</td>\n",
       "    </tr>\n",
       "  </tbody>\n",
       "</table>\n",
       "</div>"
      ],
      "text/plain": [
       "          name_of_city               location\n",
       "9              Aizawl    23.727107,92.7176389\n",
       "271             Kochi    9.9312328,76.2673041\n",
       "461          Thrissur   10.5276416,76.2144349\n",
       "278         Kozhikode     11.2587531,75.78041\n",
       "14          Alappuzha    9.4980667,76.3388484\n",
       "264          Khardaha   22.7002943,88.3753455\n",
       "333         Nagercoil    8.1832857,77.4118996\n",
       "13            Alandur   12.9974873,80.2006371\n",
       "352  North Barrackpur    22.7902358,88.367179\n",
       "431            Shimla   31.1048145,77.1734033"
      ]
     },
     "execution_count": 106,
     "metadata": {},
     "output_type": "execute_result"
    }
   ],
   "source": [
    "dataset.nlargest(10, ['effective_literacy_rate_total'])[['name_of_city', 'location']]"
   ]
  },
  {
   "cell_type": "code",
   "execution_count": null,
   "id": "1f9e7939-cd40-40af-8d15-52f3bc8ad0a3",
   "metadata": {},
   "outputs": [],
   "source": [
    "\"\"\"\n",
    "For the data set “Indian_cities”\n",
    "a)\tConstruct histogram on literates_total and comment about the inferences\n",
    "b)\tConstruct scatter  plot between  male graduates and female graduates\n",
    "\n",
    "\"\"\""
   ]
  },
  {
   "cell_type": "code",
   "execution_count": 108,
   "id": "ab4b74a1-2336-44d3-97b2-a5dc3e4fd927",
   "metadata": {},
   "outputs": [],
   "source": [
    "# Construct histogram on literates_total and comment about the inferences \n",
    "data = dataset[['literates_total']]"
   ]
  },
  {
   "cell_type": "code",
   "execution_count": 114,
   "id": "51492b02-2877-465b-8c9e-0e7fe46468e9",
   "metadata": {},
   "outputs": [
    {
     "data": {
      "text/plain": [
       "Text(0.5, 0, 'Literates total')"
      ]
     },
     "execution_count": 114,
     "metadata": {},
     "output_type": "execute_result"
    },
    {
     "data": {
      "image/png": "[encoded data removed]",
      "text/plain": [
       "<Figure size 640x480 with 1 Axes>"
      ]
     },
     "metadata": {},
     "output_type": "display_data"
    }
   ],
   "source": [
    "sns.histplot(data, bins=20, kde=True)\n",
    "plt.xlabel(\"Literates total\")"
   ]
  },
  {
   "cell_type": "code",
   "execution_count": 116,
   "id": "4146e6d5-1262-4ba0-a78b-49c56ce19d4a",
   "metadata": {},
   "outputs": [],
   "source": [
    "# Construct scatter  plot between  male graduates and female graduates "
   ]
  },
  {
   "cell_type": "code",
   "execution_count": 122,
   "id": "313997c4-1585-4444-b73b-713240b734cf",
   "metadata": {},
   "outputs": [
    {
     "data": {
      "image/png": "[encoded data removed]",
      "text/plain": [
       "<Figure size 640x480 with 1 Axes>"
      ]
     },
     "metadata": {},
     "output_type": "display_data"
    }
   ],
   "source": [
    "sns.scatterplot(data= dataset, x = \"male_graduates\", y = \"female_graduates\")\n",
    "plt.ylabel('female')\n",
    "plt.xlabel(\"male\")\n",
    "plt.show()"
   ]
  },
  {
   "cell_type": "code",
   "execution_count": null,
   "id": "d8b0b95a-c5b8-44fc-a37b-a4f15829488b",
   "metadata": {},
   "outputs": [],
   "source": [
    "\"\"\"\n",
    "1)\tFor the data set “Indian_cities”\n",
    "a)\tConstruct Boxplot on total effective literacy rate and draw inferences\n",
    "b)\tFind out the number of null values in each column of the dataset and delete them.\n",
    "\"\"\""
   ]
  },
  {
   "cell_type": "code",
   "execution_count": 125,
   "id": "3885cbb1-9ccb-4598-a8e0-17c73d14f021",
   "metadata": {},
   "outputs": [
    {
     "data": {
      "text/plain": [
       "<Axes: ylabel='effective_literacy_rate_total'>"
      ]
     },
     "execution_count": 125,
     "metadata": {},
     "output_type": "execute_result"
    },
    {
     "data": {
      "image/png": "[encoded data removed]",
      "text/plain": [
       "<Figure size 640x480 with 1 Axes>"
      ]
     },
     "metadata": {},
     "output_type": "display_data"
    }
   ],
   "source": [
    "# Construct Boxplot on total effective literacy rate and draw inferences\n",
    "sns.boxplot(data = dataset['effective_literacy_rate_total'])"
   ]
  },
  {
   "cell_type": "code",
   "execution_count": 126,
   "id": "46eef75f-ebc0-48a3-aeab-d1cd7b5f16a2",
   "metadata": {},
   "outputs": [
    {
     "data": {
      "text/plain": [
       "name_of_city                      0\n",
       "state_code                        0\n",
       "state_name                        0\n",
       "dist_code                         0\n",
       "population_total                  0\n",
       "population_male                   0\n",
       "population_female                 0\n",
       "0-6_population_total              0\n",
       "0-6_population_male               0\n",
       "0-6_population_female             0\n",
       "literates_total                   0\n",
       "literates_male                    0\n",
       "literates_female                  0\n",
       "sex_ratio                         0\n",
       "child_sex_ratio                   0\n",
       "effective_literacy_rate_total     0\n",
       "effective_literacy_rate_male      0\n",
       "effective_literacy_rate_female    0\n",
       "location                          0\n",
       "total_graduates                   0\n",
       "male_graduates                    0\n",
       "female_graduates                  0\n",
       "dtype: int64"
      ]
     },
     "execution_count": 126,
     "metadata": {},
     "output_type": "execute_result"
    }
   ],
   "source": [
    "# Find out the number of null values in each column of the dataset and delete them.\n",
    "\n",
    "dataset.isnull().sum()"
   ]
  },
  {
   "cell_type": "code",
   "execution_count": null,
   "id": "c6f56dfb-70c8-4496-8e6a-c9263f058e0b",
   "metadata": {},
   "outputs": [],
   "source": []
  }
 ],
 "metadata": {
  "kernelspec": {
   "display_name": "Python 3 (ipykernel)",
   "language": "python",
   "name": "python3"
  },
  "language_info": {
   "codemirror_mode": {
    "name": "ipython",
    "version": 3
   },
   "file_extension": ".py",
   "mimetype": "text/x-python",
   "name": "python",
   "nbconvert_exporter": "python",
   "pygments_lexer": "ipython3",
   "version": "3.8.20"
  },
  "widgets": {
   "application/vnd.jupyter.widget-state+json": {
    "state": {},
    "version_major": 2,
    "version_minor": 0
   }
  }
 },
 "nbformat": 4,
 "nbformat_minor": 5
}
