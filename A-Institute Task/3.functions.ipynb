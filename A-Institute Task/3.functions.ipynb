{
 "cells": [
  {
   "cell_type": "code",
   "execution_count": null,
   "id": "372fb00a-ce38-4571-b85a-c8a1915a98d4",
   "metadata": {},
   "outputs": [],
   "source": [
    "# Please write Python Programs for all the problems."
   ]
  },
  {
   "cell_type": "code",
   "execution_count": 1,
   "id": "902df373-419d-42ea-9c4b-33c5f788d809",
   "metadata": {},
   "outputs": [],
   "source": [
    "# Write a Python function to find the Max of three numbers."
   ]
  },
  {
   "cell_type": "code",
   "execution_count": 2,
   "id": "8a7390df-6fd2-4ff0-830d-26f1e86df419",
   "metadata": {},
   "outputs": [],
   "source": [
    "def maxThreeNumber(a, b, c):\n",
    "    if a > b and a > c:\n",
    "        print(f'{a} is a max value')\n",
    "    elif b > a and b > c:\n",
    "        print(f'{b} is a max value')\n",
    "    else:\n",
    "        print(f'{c} is a max value') "
   ]
  },
  {
   "cell_type": "code",
   "execution_count": 3,
   "id": "27fc09b3-6835-4bf9-8c55-57d7fc2f81e8",
   "metadata": {},
   "outputs": [
    {
     "name": "stdout",
     "output_type": "stream",
     "text": [
      "40 is a max value\n"
     ]
    }
   ],
   "source": [
    "maxThreeNumber(10, 40, 20)"
   ]
  },
  {
   "cell_type": "code",
   "execution_count": 4,
   "id": "6bb64c59-f569-43d9-a6ed-be0d94bd73d0",
   "metadata": {},
   "outputs": [],
   "source": [
    "# Write a Python function to sum all the numbers in a list."
   ]
  },
  {
   "cell_type": "code",
   "execution_count": 6,
   "id": "ff059be9-5d78-40d6-92ba-df61d80a4b01",
   "metadata": {},
   "outputs": [],
   "source": [
    "def sumAll(data):\n",
    "    listSum = 0\n",
    "    for num in data:\n",
    "        listSum = listSum + num \n",
    "    return listSum"
   ]
  },
  {
   "cell_type": "code",
   "execution_count": 7,
   "id": "40e2be1b-edaa-495e-86d4-53de2e325bce",
   "metadata": {},
   "outputs": [],
   "source": [
    "listOne = [2, 4, 1, 5, 6]"
   ]
  },
  {
   "cell_type": "code",
   "execution_count": 8,
   "id": "c0172a40-718d-43fe-bdee-ce891304603b",
   "metadata": {},
   "outputs": [
    {
     "data": {
      "text/plain": [
       "18"
      ]
     },
     "execution_count": 8,
     "metadata": {},
     "output_type": "execute_result"
    }
   ],
   "source": [
    "sumAll(listOne)"
   ]
  },
  {
   "cell_type": "code",
   "execution_count": 9,
   "id": "2cc88e79-c78f-4c95-aca3-b7e3113f64d7",
   "metadata": {},
   "outputs": [],
   "source": [
    "# Write a Python function to multiply all the numbers in a list. "
   ]
  },
  {
   "cell_type": "code",
   "execution_count": 18,
   "id": "7cf2cdb0-b876-43f6-9da2-2dc521e8dec9",
   "metadata": {},
   "outputs": [],
   "source": [
    "def MulAll(data):\n",
    "    listMul = 1\n",
    "    for num in data:\n",
    "        listMul = listMul * num \n",
    "    return listMul"
   ]
  },
  {
   "cell_type": "code",
   "execution_count": 19,
   "id": "0310e9c1-276c-405d-aabc-1f3e28c4ed1c",
   "metadata": {},
   "outputs": [],
   "source": [
    "listOne = [2, 4, 1, 5, 6]"
   ]
  },
  {
   "cell_type": "code",
   "execution_count": 20,
   "id": "ab0d259e-cb25-4f2d-98b9-9c4ad0cca4d5",
   "metadata": {},
   "outputs": [
    {
     "data": {
      "text/plain": [
       "240"
      ]
     },
     "execution_count": 20,
     "metadata": {},
     "output_type": "execute_result"
    }
   ],
   "source": [
    "MulAll(listOne)"
   ]
  },
  {
   "cell_type": "code",
   "execution_count": 22,
   "id": "e4ca73bf-91f0-4fb1-bbe9-522365169ac8",
   "metadata": {},
   "outputs": [
    {
     "data": {
      "text/plain": [
       "240"
      ]
     },
     "execution_count": 22,
     "metadata": {},
     "output_type": "execute_result"
    }
   ],
   "source": [
    "import functools as fun \n",
    "fun.reduce(lambda x, y: x * y,  listOne)"
   ]
  },
  {
   "cell_type": "code",
   "execution_count": null,
   "id": "50bc8994-0378-4ac7-8709-9a1c7a36b117",
   "metadata": {},
   "outputs": [],
   "source": []
  }
 ],
 "metadata": {
  "kernelspec": {
   "display_name": "Python 3 (ipykernel)",
   "language": "python",
   "name": "python3"
  },
  "language_info": {
   "codemirror_mode": {
    "name": "ipython",
    "version": 3
   },
   "file_extension": ".py",
   "mimetype": "text/x-python",
   "name": "python",
   "nbconvert_exporter": "python",
   "pygments_lexer": "ipython3",
   "version": "3.8.20"
  },
  "widgets": {
   "application/vnd.jupyter.widget-state+json": {
    "state": {},
    "version_major": 2,
    "version_minor": 0
   }
  }
 },
 "nbformat": 4,
 "nbformat_minor": 5
}
