{
 "cells": [
  {
   "cell_type": "code",
   "execution_count": 1,
   "id": "919f3644-e053-4ba9-99d8-2b03d3f4dbb9",
   "metadata": {},
   "outputs": [],
   "source": [
    "# 1)Write the code in python to open a file named “try.txt”"
   ]
  },
  {
   "cell_type": "code",
   "execution_count": 3,
   "id": "4e4cc46a-46be-4650-8f17-34bb50a880ea",
   "metadata": {},
   "outputs": [],
   "source": [
    "file = open(\"try.txt\", 'w')\n",
    "file.write(\"hello world\")\n",
    "file.close()"
   ]
  },
  {
   "cell_type": "code",
   "execution_count": 4,
   "id": "21fafb05-a01c-4d12-aca0-23ba3b1cc4ea",
   "metadata": {},
   "outputs": [],
   "source": [
    "# 2)What is the purpose of ‘r’ as a prefix in the given statement? \n",
    "#      f = open(r, “d:\\color\\flower.txt”)"
   ]
  },
  {
   "cell_type": "code",
   "execution_count": 5,
   "id": "9ed30822-ab9b-4265-8753-8838e021f536",
   "metadata": {},
   "outputs": [],
   "source": [
    "# The purpose of 'r' is read mode in python file. It read the text in the file.  "
   ]
  },
  {
   "cell_type": "code",
   "execution_count": 8,
   "id": "03eac495-3273-498b-84e3-799219c7b999",
   "metadata": {},
   "outputs": [
    {
     "name": "stdout",
     "output_type": "stream",
     "text": [
      "file not found\n"
     ]
    }
   ],
   "source": [
    "try:\n",
    "    file = open('trey.txt', 'r')\n",
    "    data = file.read()\n",
    "    print(data) \n",
    "except FileNotFoundError:\n",
    "    print(\"file not found\")\n",
    "except Exception as e:\n",
    "    print(f'error -> {e}')"
   ]
  },
  {
   "cell_type": "code",
   "execution_count": 9,
   "id": "13d17660-e3d6-459e-a550-c78b19e42c67",
   "metadata": {},
   "outputs": [],
   "source": [
    "# 3)Write a note on the following\n",
    "# A.\tPurpose of Exception Handling\n",
    "# B.\tTry block\n",
    "# C.\tExcept block\n",
    "# D.\tElse block\n",
    "# E.\tFinally block\n",
    "# F.\tBuilt-in exceptions"
   ]
  },
  {
   "cell_type": "markdown",
   "id": "37636aee-86b3-407e-af4e-318ec0037b2e",
   "metadata": {},
   "source": [
    "####  Purpose of Exception Handling\n",
    "The purpose of exception handling is to prevent the program from crashing by managing errors gracefully. It helps identify and address problems during execution using try and except blocks."
   ]
  },
  {
   "cell_type": "markdown",
   "id": "302dfc4a-0ccd-4bbe-9cea-95bf7bc9acac",
   "metadata": {},
   "source": [
    "#### try:\n",
    "The try block contains the code that may raise an exception.\n",
    "\n",
    "#### except:\n",
    "The except block handles the error and specifies the code to execute if an exception occurs.\n",
    "\n",
    "#### else:\n",
    "The else block is executed if no exceptions are raised in the try block.\n",
    "\n",
    "#### finally:\n",
    "The finally block is optional and always executes, whether an exception occurred or not. It is often used for cleanup operations, like closing files."
   ]
  },
  {
   "cell_type": "markdown",
   "id": "e7fc1ff3-746e-4315-bfea-cc509e1d9fbc",
   "metadata": {},
   "source": [
    "#### Built-in Exceptions\n",
    "Built-in exceptions are predefined by Python and handle common errors, such as FileNotFoundError, TypeError, or ValueError. These exceptions are written by Python's developers and can be directly used in programs."
   ]
  },
  {
   "cell_type": "code",
   "execution_count": 11,
   "id": "cd1f7df9-6177-427a-b8e4-2dde244b00a3",
   "metadata": {},
   "outputs": [],
   "source": [
    "# Write 2 Custom exceptions"
   ]
  },
  {
   "cell_type": "code",
   "execution_count": 14,
   "id": "068f9ab5-7a22-46e3-b7e9-14efce6247e5",
   "metadata": {},
   "outputs": [
    {
     "name": "stdout",
     "output_type": "stream",
     "text": [
      "The number is too small\n"
     ]
    }
   ],
   "source": [
    "class TooSmall(Exception):\n",
    "    \"\"\" The value is too small \"\"\"\n",
    "    pass \n",
    "\n",
    "try:\n",
    "    if 5 < 10:\n",
    "        raise TooSmall(\"The number is too small\")\n",
    "except TooSmall as e: \n",
    "    print(e)"
   ]
  },
  {
   "cell_type": "code",
   "execution_count": 17,
   "id": "00284716-359a-4b8d-a2af-b0d80a7a369b",
   "metadata": {},
   "outputs": [
    {
     "name": "stdout",
     "output_type": "stream",
     "text": [
      "Its is even number\n"
     ]
    }
   ],
   "source": [
    "class Number(Exception):\n",
    "    pass \n",
    "\n",
    "try: \n",
    "    if 10 % 2 == 0:\n",
    "        raise Number(\"Its is even number\")\n",
    "except Number as e:\n",
    "    print(e)"
   ]
  },
  {
   "cell_type": "code",
   "execution_count": null,
   "id": "850c5566-797f-4ddb-96a8-927da595eb4a",
   "metadata": {},
   "outputs": [],
   "source": []
  }
 ],
 "metadata": {
  "kernelspec": {
   "display_name": "Python 3 (ipykernel)",
   "language": "python",
   "name": "python3"
  },
  "language_info": {
   "codemirror_mode": {
    "name": "ipython",
    "version": 3
   },
   "file_extension": ".py",
   "mimetype": "text/x-python",
   "name": "python",
   "nbconvert_exporter": "python",
   "pygments_lexer": "ipython3",
   "version": "3.8.20"
  },
  "widgets": {
   "application/vnd.jupyter.widget-state+json": {
    "state": {},
    "version_major": 2,
    "version_minor": 0
   }
  }
 },
 "nbformat": 4,
 "nbformat_minor": 5
}
