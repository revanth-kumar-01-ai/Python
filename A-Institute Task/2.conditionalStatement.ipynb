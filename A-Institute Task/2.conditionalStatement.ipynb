{
 "cells": [
  {
   "cell_type": "markdown",
   "id": "e6911d44-af3f-48ea-bea1-e806d31868f6",
   "metadata": {},
   "source": [
    "# Conditional Statements"
   ]
  },
  {
   "cell_type": "code",
   "execution_count": 1,
   "id": "0641dcbc-ffa7-492b-9e3a-746a75c921a6",
   "metadata": {},
   "outputs": [],
   "source": [
    "# 1.\t Take a variable ‘age’ which is of positive value and check the following:\n",
    "# a.\tIf age is less than 10, print “Children”.\n",
    "# b.\tIf age is more than 60 , print ‘senior citizens’\n",
    "# c.\t If it is in between 10 and 60, print ‘normal citizen’"
   ]
  },
  {
   "cell_type": "code",
   "execution_count": 4,
   "id": "48f8cb19-9c4f-4d26-bae0-9ef199727eb2",
   "metadata": {},
   "outputs": [
    {
     "name": "stdout",
     "output_type": "stream",
     "text": [
      "normal citizen\n"
     ]
    }
   ],
   "source": [
    "age = 20\n",
    "if age < 10:\n",
    "    print(\"children\")\n",
    "elif age > 60:\n",
    "    print(\"senior citizen\")\n",
    "else:\n",
    "    print(\"normal citizen\")\n"
   ]
  },
  {
   "cell_type": "code",
   "execution_count": 5,
   "id": "6a40d4d5-a9b1-407e-9a46-ce643d070978",
   "metadata": {},
   "outputs": [],
   "source": [
    "# 2.\tFind  the final train ticket price with the following conditions. \n",
    "# a.\tIf male and sr.citizen, 70% of fare is applicable\n",
    "# b.\tIf female and sr.citizen, 50% of fare is applicable.\n",
    "# c.\tIf female and normal citizen, 70% of fare is applicable\n",
    "# d.\tIf male and normal citizen, 100% of fare is applicable"
   ]
  },
  {
   "cell_type": "code",
   "execution_count": 6,
   "id": "2653e046-c2cb-4ab4-bbc7-19c80277848e",
   "metadata": {},
   "outputs": [
    {
     "name": "stdout",
     "output_type": "stream",
     "text": [
      "70%\n"
     ]
    }
   ],
   "source": [
    "gender = \"male\"\n",
    "citizenType = \"sr\" \n",
    "if gender == \"male\" and citizenType == \"sr\":\n",
    "    print(\"70%\")\n",
    "elif gender == \"female\" and citizenType == \"sr\":\n",
    "    print(\"50%\")\n",
    "elif gender == \"female\" and citizenType == \"normal\":\n",
    "    print(\"70%\")\n",
    "elif gender == \"male\" and citizenType == \"normal\":\n",
    "    print(\"100%\")\n",
    "else:\n",
    "    print(\"invalid\")"
   ]
  },
  {
   "cell_type": "code",
   "execution_count": 7,
   "id": "fde6a858-9482-4cb3-bd4d-ca96aa9df615",
   "metadata": {},
   "outputs": [],
   "source": [
    "# 3.\tCheck whether the given number is positive and divisible by 5 or not"
   ]
  },
  {
   "cell_type": "code",
   "execution_count": 12,
   "id": "7aa1260a-e64c-4f22-8a97-021373edb058",
   "metadata": {},
   "outputs": [
    {
     "name": "stdout",
     "output_type": "stream",
     "text": [
      "True\n"
     ]
    }
   ],
   "source": [
    "num = 10 \n",
    "if num > 0 and num % 5 == 0:\n",
    "    print(\"True\")\n",
    "else:\n",
    "    print(\"False\")"
   ]
  },
  {
   "cell_type": "markdown",
   "id": "232e5a4b-7377-41a0-bc6f-d54f7eb84751",
   "metadata": {},
   "source": [
    "# Conditional Statements"
   ]
  },
  {
   "cell_type": "code",
   "execution_count": 13,
   "id": "08af3915-827e-42a4-b87e-0f3f2763b950",
   "metadata": {},
   "outputs": [],
   "source": [
    "# 1.\tA) list1=[1,5.5,(10+20j),’data science’].. Print default functions and parameters exist in list1."
   ]
  },
  {
   "cell_type": "code",
   "execution_count": 14,
   "id": "308134a8-43da-4534-805e-fa40f172cefb",
   "metadata": {},
   "outputs": [
    {
     "data": {
      "text/plain": [
       "['__add__',\n",
       " '__class__',\n",
       " '__contains__',\n",
       " '__delattr__',\n",
       " '__delitem__',\n",
       " '__dir__',\n",
       " '__doc__',\n",
       " '__eq__',\n",
       " '__format__',\n",
       " '__ge__',\n",
       " '__getattribute__',\n",
       " '__getitem__',\n",
       " '__gt__',\n",
       " '__hash__',\n",
       " '__iadd__',\n",
       " '__imul__',\n",
       " '__init__',\n",
       " '__init_subclass__',\n",
       " '__iter__',\n",
       " '__le__',\n",
       " '__len__',\n",
       " '__lt__',\n",
       " '__mul__',\n",
       " '__ne__',\n",
       " '__new__',\n",
       " '__reduce__',\n",
       " '__reduce_ex__',\n",
       " '__repr__',\n",
       " '__reversed__',\n",
       " '__rmul__',\n",
       " '__setattr__',\n",
       " '__setitem__',\n",
       " '__sizeof__',\n",
       " '__str__',\n",
       " '__subclasshook__',\n",
       " 'append',\n",
       " 'clear',\n",
       " 'copy',\n",
       " 'count',\n",
       " 'extend',\n",
       " 'index',\n",
       " 'insert',\n",
       " 'pop',\n",
       " 'remove',\n",
       " 'reverse',\n",
       " 'sort']"
      ]
     },
     "execution_count": 14,
     "metadata": {},
     "output_type": "execute_result"
    }
   ],
   "source": [
    "listOne = [1, 5.5, 10+20j, \"data science\"] \n",
    "dir(listOne)"
   ]
  },
  {
   "cell_type": "code",
   "execution_count": 15,
   "id": "ea0995b2-ed49-429e-9e8b-934d816291f5",
   "metadata": {},
   "outputs": [],
   "source": [
    "# How do we create a sequence of numbers in Python?"
   ]
  },
  {
   "cell_type": "code",
   "execution_count": 16,
   "id": "7798a4ab-b870-4b95-be0c-dc96d8a6400f",
   "metadata": {},
   "outputs": [
    {
     "name": "stdout",
     "output_type": "stream",
     "text": [
      "0\n",
      "1\n",
      "2\n",
      "3\n",
      "4\n",
      "5\n",
      "6\n",
      "7\n",
      "8\n",
      "9\n"
     ]
    }
   ],
   "source": [
    "for num in range(10):\n",
    "    print(num)"
   ]
  },
  {
   "cell_type": "code",
   "execution_count": 17,
   "id": "20ee1a86-48b2-4142-82af-20a6b39a9818",
   "metadata": {},
   "outputs": [],
   "source": [
    "# Read the input from keyboard and print a sequence of numbers up to that number"
   ]
  },
  {
   "cell_type": "code",
   "execution_count": 18,
   "id": "7d1272bc-3a81-431c-8b68-0a26fe5cb550",
   "metadata": {},
   "outputs": [
    {
     "name": "stdin",
     "output_type": "stream",
     "text": [
      "enter the number 10\n"
     ]
    },
    {
     "name": "stdout",
     "output_type": "stream",
     "text": [
      "0\n",
      "1\n",
      "2\n",
      "3\n",
      "4\n",
      "5\n",
      "6\n",
      "7\n",
      "8\n",
      "9\n"
     ]
    }
   ],
   "source": [
    "num = int(input(\"enter the number\"))\n",
    "for i in range(num):\n",
    "    print(i)"
   ]
  },
  {
   "cell_type": "code",
   "execution_count": null,
   "id": "1375d57b-933b-4ddc-9e63-1fa4276bfea8",
   "metadata": {},
   "outputs": [],
   "source": [
    "# 2.\tCreate 2 lists.. one list contains 10 numbers (list1=[0,1,2,3....9]) and other \n",
    "# list contains words of those 10 numbers (list2=['zero','one','two',.... ,'nine']).\n",
    "#  Create a dictionary such that list2 are keys and list 1 are values.."
   ]
  },
  {
   "cell_type": "code",
   "execution_count": 20,
   "id": "265a0314-8412-4931-9e1e-bbaf50caee34",
   "metadata": {},
   "outputs": [],
   "source": [
    "listOne = list(range(0, 10))\n",
    "listTwo =  [\"zero\", \"one\", \"two\", \"three\", \"four\", \"five\", \"six\", \"seven\", \"eight\", \"nine\"]"
   ]
  },
  {
   "cell_type": "code",
   "execution_count": 25,
   "id": "452aa504-8595-4440-b8b5-76000043bc98",
   "metadata": {},
   "outputs": [],
   "source": [
    "dictNumberWords = {}\n",
    "for i in range(len(listOne)):\n",
    "    dictNumberWords[listTwo[i]] = listOne[i] "
   ]
  },
  {
   "cell_type": "code",
   "execution_count": 26,
   "id": "930873f3-af48-4862-a0b9-3c617b87cc3e",
   "metadata": {},
   "outputs": [
    {
     "data": {
      "text/plain": [
       "{'zero': 0,\n",
       " 'one': 1,\n",
       " 'two': 2,\n",
       " 'three': 3,\n",
       " 'four': 4,\n",
       " 'five': 5,\n",
       " 'six': 6,\n",
       " 'seven': 7,\n",
       " 'eight': 8,\n",
       " 'nine': 9}"
      ]
     },
     "execution_count": 26,
     "metadata": {},
     "output_type": "execute_result"
    }
   ],
   "source": [
    "dictNumberWords"
   ]
  },
  {
   "cell_type": "code",
   "execution_count": 28,
   "id": "a2da643e-910c-4137-9a70-e8d2dc5e7f16",
   "metadata": {},
   "outputs": [],
   "source": [
    "# 3. Consider a list1 [3,4,5,6,7,8]. Create a new list2 such that Add 10 to the even number and multiply with 5 if it is an odd number in the list1.."
   ]
  },
  {
   "cell_type": "code",
   "execution_count": 29,
   "id": "70d45b7e-20f6-441a-ad03-a6358d856327",
   "metadata": {},
   "outputs": [
    {
     "data": {
      "text/plain": [
       "[15, 14, 25, 16, 35, 18]"
      ]
     },
     "execution_count": 29,
     "metadata": {},
     "output_type": "execute_result"
    }
   ],
   "source": [
    "listOne = [3, 4, 5, 6, 7, 8] \n",
    "listTwo = []\n",
    "for num in listOne:\n",
    "    if num % 2 == 0:\n",
    "        listTwo.append(num + 10)\n",
    "    else:\n",
    "        listTwo.append(num * 5)\n",
    "listTwo"
   ]
  },
  {
   "cell_type": "code",
   "execution_count": 30,
   "id": "1d4adb74-57de-4154-af91-785df1faf760",
   "metadata": {},
   "outputs": [],
   "source": [
    "# .     Write a simple user defined function that greets a person in such a way that :\n",
    "#              i) It should accept both the name of the person and message you want to deliver.\n",
    "#               ii) If no message is provided, it should greet a default message ‘How are you’\n",
    "#            Ex: Hello ---xxxx---, How are you  -🡪 default message.\n",
    "#             Ex: Hello ---xxxx---, --xx your message xx---"
   ]
  },
  {
   "cell_type": "code",
   "execution_count": 32,
   "id": "df0b7fce-4295-489d-aa57-d0dd2d32a4ee",
   "metadata": {},
   "outputs": [],
   "source": [
    "def greetsAperson(name, message = \"How are you ?\"):\n",
    "    print(f'Hello {name}. {message}')\n"
   ]
  },
  {
   "cell_type": "code",
   "execution_count": 33,
   "id": "7e899adb-5bea-46b7-82fb-a24d53158393",
   "metadata": {},
   "outputs": [
    {
     "name": "stdout",
     "output_type": "stream",
     "text": [
      "Hello revanth kumar. How are you\n"
     ]
    }
   ],
   "source": [
    "greetsAperson(\"revanth kumar\")"
   ]
  },
  {
   "cell_type": "code",
   "execution_count": 36,
   "id": "d4ec9d3b-9bef-41c5-9613-dc97a9b78114",
   "metadata": {},
   "outputs": [
    {
     "name": "stdout",
     "output_type": "stream",
     "text": [
      "Hello revanth kumar. Are you fine!\n"
     ]
    }
   ],
   "source": [
    "greetsAperson(\"revanth kumar\", \"Are you fine!\")"
   ]
  },
  {
   "cell_type": "code",
   "execution_count": null,
   "id": "76e8a163-ad4c-410d-9ef3-c03ae01b969d",
   "metadata": {},
   "outputs": [],
   "source": []
  }
 ],
 "metadata": {
  "kernelspec": {
   "display_name": "Python 3 (ipykernel)",
   "language": "python",
   "name": "python3"
  },
  "language_info": {
   "codemirror_mode": {
    "name": "ipython",
    "version": 3
   },
   "file_extension": ".py",
   "mimetype": "text/x-python",
   "name": "python",
   "nbconvert_exporter": "python",
   "pygments_lexer": "ipython3",
   "version": "3.8.20"
  },
  "widgets": {
   "application/vnd.jupyter.widget-state+json": {
    "state": {},
    "version_major": 2,
    "version_minor": 0
   }
  }
 },
 "nbformat": 4,
 "nbformat_minor": 5
}
