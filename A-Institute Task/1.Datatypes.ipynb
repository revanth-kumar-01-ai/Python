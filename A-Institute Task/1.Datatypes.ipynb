{
 "cells": [
  {
   "cell_type": "markdown",
   "id": "24845e36-d5f6-4f82-9ba7-88eeb86eb478",
   "metadata": {},
   "source": [
    "# Data Types "
   ]
  },
  {
   "cell_type": "markdown",
   "id": "3ccbab84-f404-4282-9e2c-b482ccf5cfe8",
   "metadata": {},
   "source": [
    "### 1.\tConstruct 2 lists containing all the available data types  (integer, float, string, complex and Boolean) and do the following.."
   ]
  },
  {
   "cell_type": "code",
   "execution_count": 5,
   "id": "b0cee090-0a21-49aa-bcbe-14314fe9804f",
   "metadata": {},
   "outputs": [],
   "source": [
    "listOne = [10, 20.2, \"artificial intelligence\", 12j, True]"
   ]
  },
  {
   "cell_type": "code",
   "execution_count": 6,
   "id": "05952f28-abaf-4fac-b58e-2667d74b2bbc",
   "metadata": {},
   "outputs": [],
   "source": [
    "listTwo = [13, 23.2, \"Macine learing\", 13j, False]"
   ]
  },
  {
   "cell_type": "code",
   "execution_count": null,
   "id": "623109c9-d822-4a5c-b325-2943ad9ba1d4",
   "metadata": {},
   "outputs": [],
   "source": [
    "# a.\tCreate another list by concatenating above 2 lists"
   ]
  },
  {
   "cell_type": "code",
   "execution_count": 7,
   "id": "3a9f9220-1930-4d2e-a2a2-fb59fbff8a48",
   "metadata": {},
   "outputs": [],
   "source": [
    "newList = listOne + listTwo"
   ]
  },
  {
   "cell_type": "code",
   "execution_count": 8,
   "id": "6243217f-6189-48b1-9026-ccf43195873d",
   "metadata": {},
   "outputs": [
    {
     "data": {
      "text/plain": [
       "[10,\n",
       " 20.2,\n",
       " 'artificial intelligence',\n",
       " 12j,\n",
       " True,\n",
       " 13,\n",
       " 23.2,\n",
       " 'Macine learing',\n",
       " 13j,\n",
       " False]"
      ]
     },
     "execution_count": 8,
     "metadata": {},
     "output_type": "execute_result"
    }
   ],
   "source": [
    "newList"
   ]
  },
  {
   "cell_type": "code",
   "execution_count": 9,
   "id": "94a1ed6b-0aac-44b8-89f2-ece15f3342f0",
   "metadata": {},
   "outputs": [],
   "source": [
    "# b.\tFind the frequency of each element in the concatenated list."
   ]
  },
  {
   "cell_type": "code",
   "execution_count": 14,
   "id": "a0b27c70-3354-472f-bf62-fc154a3dd789",
   "metadata": {},
   "outputs": [
    {
     "name": "stdout",
     "output_type": "stream",
     "text": [
      "10 = 1\n",
      "20.2 = 1\n",
      "artificial intelligence = 1\n",
      "12j = 1\n",
      "True = 1\n",
      "13 = 1\n",
      "23.2 = 1\n",
      "Macine learing = 1\n",
      "13j = 1\n",
      "False = 1\n"
     ]
    }
   ],
   "source": [
    "for i in newList:\n",
    "    print(f'{i} = {newList.count(i)}')"
   ]
  },
  {
   "cell_type": "code",
   "execution_count": 15,
   "id": "104a8c06-f178-4efa-82f8-5ac7df461160",
   "metadata": {},
   "outputs": [],
   "source": [
    "# c.\tPrint the list in reverse order"
   ]
  },
  {
   "cell_type": "code",
   "execution_count": 16,
   "id": "9529e922-d535-48b8-b5de-71b1fa3db002",
   "metadata": {},
   "outputs": [
    {
     "data": {
      "text/plain": [
       "[10, 20.2, 'artificial intelligence', 12j, True]"
      ]
     },
     "execution_count": 16,
     "metadata": {},
     "output_type": "execute_result"
    }
   ],
   "source": [
    "listOne"
   ]
  },
  {
   "cell_type": "code",
   "execution_count": 21,
   "id": "ba4905f2-d6f6-45c7-b303-2cf84501a015",
   "metadata": {},
   "outputs": [],
   "source": [
    "listOne.reverse()"
   ]
  },
  {
   "cell_type": "code",
   "execution_count": 22,
   "id": "43befb8e-c2d9-4086-9782-d05c4dfe0dc5",
   "metadata": {},
   "outputs": [
    {
     "data": {
      "text/plain": [
       "[True, 12j, 'artificial intelligence', 20.2, 10]"
      ]
     },
     "execution_count": 22,
     "metadata": {},
     "output_type": "execute_result"
    }
   ],
   "source": [
    "listOne"
   ]
  },
  {
   "cell_type": "markdown",
   "id": "5c3e1ef4-8a21-4bcb-a874-15952997da35",
   "metadata": {},
   "source": [
    "### 2.\tCreate 2 Sets containing integers (numbers from 1 to 10 in one set and 5 to 15 in other set)"
   ]
  },
  {
   "cell_type": "code",
   "execution_count": 53,
   "id": "ddf99642-f215-411d-a131-74860a5cb923",
   "metadata": {},
   "outputs": [
    {
     "data": {
      "text/plain": [
       "({1, 2, 3, 4, 5, 6, 7, 8, 9, 10}, {5, 6, 7, 8, 9, 10, 11, 12, 13, 14, 15})"
      ]
     },
     "execution_count": 53,
     "metadata": {},
     "output_type": "execute_result"
    }
   ],
   "source": [
    "setOne = set(range(1, 10+1))\n",
    "setTwo = set(range(5, 15+1))\n",
    "setOne, setTwo"
   ]
  },
  {
   "cell_type": "code",
   "execution_count": 23,
   "id": "393f8b7a-630e-4c41-8f6b-ffd42f9491e1",
   "metadata": {},
   "outputs": [],
   "source": [
    "# a.\tFind the common elements in above 2 Sets"
   ]
  },
  {
   "cell_type": "code",
   "execution_count": 44,
   "id": "3e5ea665-94c1-4771-a5f5-9cdc5db65913",
   "metadata": {},
   "outputs": [
    {
     "data": {
      "text/plain": [
       "{5, 6, 7, 8, 9, 10}"
      ]
     },
     "execution_count": 44,
     "metadata": {},
     "output_type": "execute_result"
    }
   ],
   "source": [
    "{element for element in setOne if element in listTwo}"
   ]
  },
  {
   "cell_type": "code",
   "execution_count": 34,
   "id": "8510ddfa-417b-4499-90cc-0fe3c34dec4c",
   "metadata": {},
   "outputs": [],
   "source": [
    "# b.\tFind the elements that are not common. "
   ]
  },
  {
   "cell_type": "code",
   "execution_count": 45,
   "id": "708bd5cb-5e23-4c13-9030-0857bcdf6828",
   "metadata": {},
   "outputs": [
    {
     "data": {
      "text/plain": [
       "{1, 2, 3, 4, 5, 6, 7, 8, 9, 10, 11, 12, 13, 14, 15}"
      ]
     },
     "execution_count": 45,
     "metadata": {},
     "output_type": "execute_result"
    }
   ],
   "source": [
    "setOne.union(setTwo)"
   ]
  },
  {
   "cell_type": "code",
   "execution_count": 54,
   "id": "fe2e1efe-5a5c-49bd-a059-a320a6da705c",
   "metadata": {},
   "outputs": [],
   "source": [
    "# c.\tRemove element 7 from both the Sets \n",
    "setOne.remove(7)\n",
    "setTwo.remove(7)"
   ]
  },
  {
   "cell_type": "code",
   "execution_count": 55,
   "id": "e7747c10-1d1f-483f-883b-61f711a10a93",
   "metadata": {},
   "outputs": [
    {
     "data": {
      "text/plain": [
       "({1, 2, 3, 4, 5, 6, 8, 9, 10}, {5, 6, 8, 9, 10, 11, 12, 13, 14, 15})"
      ]
     },
     "execution_count": 55,
     "metadata": {},
     "output_type": "execute_result"
    }
   ],
   "source": [
    "setOne, setTwo"
   ]
  },
  {
   "cell_type": "markdown",
   "id": "4f5022ec-099b-4742-802a-30890e979b6a",
   "metadata": {},
   "source": [
    "### 3.\tCreate a data dictionary of 5 states having state name as key and number of covid-19 cases as values."
   ]
  },
  {
   "cell_type": "code",
   "execution_count": 57,
   "id": "7595f0b7-e95a-445b-86e7-bf1bea4cf4b9",
   "metadata": {},
   "outputs": [],
   "source": [
    "covid = {\n",
    "    'tamilNadu':100, \n",
    "    \"banglore\":200, \n",
    "    \"Goa\":300,\n",
    "    \"kanada\":400,\n",
    "    \"Mumbai\":600\n",
    "}"
   ]
  },
  {
   "cell_type": "code",
   "execution_count": 58,
   "id": "f2431001-3541-40db-9dee-81a2b3697920",
   "metadata": {},
   "outputs": [
    {
     "data": {
      "text/plain": [
       "{'tamilNadu': 100, 'banglore': 200, 'Goa': 300, 'kanada': 400, 'Mumbai': 600}"
      ]
     },
     "execution_count": 58,
     "metadata": {},
     "output_type": "execute_result"
    }
   ],
   "source": [
    "covid "
   ]
  },
  {
   "cell_type": "code",
   "execution_count": 61,
   "id": "b72b4f4b-9533-4f38-b27e-d571be7eb678",
   "metadata": {},
   "outputs": [
    {
     "name": "stdout",
     "output_type": "stream",
     "text": [
      "tamilNadu\n",
      "banglore\n",
      "Goa\n",
      "kanada\n",
      "Mumbai\n"
     ]
    }
   ],
   "source": [
    "# a.\tPrint only state names from the dictionary.\n",
    "\n",
    "for state in covid.keys(): \n",
    "    print(state)"
   ]
  },
  {
   "cell_type": "code",
   "execution_count": 62,
   "id": "fc22f5d1-3370-46f7-a06d-daeecfc3e0df",
   "metadata": {},
   "outputs": [],
   "source": [
    "# b.\tUpdate another country and its covid-19 cases in the dictionary \n",
    "\n",
    "covid['uttar pradesh'] = 500"
   ]
  },
  {
   "cell_type": "code",
   "execution_count": 63,
   "id": "35dc1bec-440b-47eb-b705-d60ed6c113a6",
   "metadata": {},
   "outputs": [
    {
     "data": {
      "text/plain": [
       "{'tamilNadu': 100,\n",
       " 'banglore': 200,\n",
       " 'Goa': 300,\n",
       " 'kanada': 400,\n",
       " 'Mumbai': 600,\n",
       " 'uttar pradesh': 500}"
      ]
     },
     "execution_count": 63,
     "metadata": {},
     "output_type": "execute_result"
    }
   ],
   "source": [
    "covid"
   ]
  },
  {
   "cell_type": "markdown",
   "id": "7f97dad6-d8fe-4293-96d1-f54522039f31",
   "metadata": {},
   "source": [
    "# Operators "
   ]
  },
  {
   "cell_type": "code",
   "execution_count": 64,
   "id": "da511d88-56e3-4490-87bc-bd196a724a52",
   "metadata": {},
   "outputs": [
    {
     "data": {
      "text/plain": [
       "216657"
      ]
     },
     "execution_count": 64,
     "metadata": {},
     "output_type": "execute_result"
    }
   ],
   "source": [
    "# 1.\tA. Write an equation which relates   399, 543 and 12345  \n",
    "399 * 543 "
   ]
  },
  {
   "cell_type": "code",
   "execution_count": 66,
   "id": "58fe708a-dd7e-405b-9e5a-0086cbbad2bb",
   "metadata": {},
   "outputs": [
    {
     "data": {
      "text/plain": [
       "1"
      ]
     },
     "execution_count": 66,
     "metadata": {},
     "output_type": "execute_result"
    }
   ],
   "source": [
    "# “When I divide 5 with 3, I get 1. But when I divide -5 with 3, I get -2”—How would you justify it? \n",
    "\n",
    "5 // 3"
   ]
  },
  {
   "cell_type": "code",
   "execution_count": 68,
   "id": "75a7e3c9-42f0-49ef-95bb-ce646d97ba95",
   "metadata": {},
   "outputs": [
    {
     "data": {
      "text/plain": [
       "-2"
      ]
     },
     "execution_count": 68,
     "metadata": {},
     "output_type": "execute_result"
    }
   ],
   "source": [
    "-5 // 3"
   ]
  },
  {
   "cell_type": "code",
   "execution_count": 69,
   "id": "2b0da7b4-6cf0-4781-bd20-70764935961b",
   "metadata": {},
   "outputs": [],
   "source": [
    "# 2. a=5,b=3,c=10.. What will be the output of the following:"
   ]
  },
  {
   "cell_type": "code",
   "execution_count": 71,
   "id": "cc37d673-fd60-4766-872c-25e13f434f96",
   "metadata": {},
   "outputs": [],
   "source": [
    "a=5\n",
    "b=3\n",
    "c=10"
   ]
  },
  {
   "cell_type": "code",
   "execution_count": 72,
   "id": "3e824620-8b25-4c2e-84e0-2e82c53916aa",
   "metadata": {},
   "outputs": [],
   "source": [
    "a /= b"
   ]
  },
  {
   "cell_type": "code",
   "execution_count": 73,
   "id": "5898fef7-888a-4892-8542-e6baa6e55e2b",
   "metadata": {},
   "outputs": [
    {
     "data": {
      "text/plain": [
       "1.6666666666666667"
      ]
     },
     "execution_count": 73,
     "metadata": {},
     "output_type": "execute_result"
    }
   ],
   "source": [
    "a"
   ]
  },
  {
   "cell_type": "code",
   "execution_count": 74,
   "id": "4f3ac664-c7e7-4766-a4a5-c3b407c2c163",
   "metadata": {},
   "outputs": [],
   "source": [
    "c *= 5"
   ]
  },
  {
   "cell_type": "code",
   "execution_count": 75,
   "id": "c82c019c-779f-417a-a9b4-9ee88f49e507",
   "metadata": {},
   "outputs": [
    {
     "data": {
      "text/plain": [
       "50"
      ]
     },
     "execution_count": 75,
     "metadata": {},
     "output_type": "execute_result"
    }
   ],
   "source": [
    "c"
   ]
  },
  {
   "cell_type": "code",
   "execution_count": 87,
   "id": "7c488b17-790b-48ed-b3d3-1c410737006f",
   "metadata": {},
   "outputs": [],
   "source": [
    "# 3. a How to check the presence of an alphabet ‘S’ in the word “Data Science” ."
   ]
  },
  {
   "cell_type": "code",
   "execution_count": 89,
   "id": "ddf95a71-c44e-449b-8053-7d963215ed1d",
   "metadata": {},
   "outputs": [
    {
     "data": {
      "text/plain": [
       "True"
      ]
     },
     "execution_count": 89,
     "metadata": {},
     "output_type": "execute_result"
    }
   ],
   "source": [
    "strValue = \"Data Science\"\n",
    "'S' in strValue"
   ]
  },
  {
   "cell_type": "code",
   "execution_count": 90,
   "id": "d7cc667c-ee30-45aa-9e0f-7d01b0641d64",
   "metadata": {},
   "outputs": [],
   "source": [
    "# b How can you obtain 64 by using numbers 4 and 3 "
   ]
  },
  {
   "cell_type": "code",
   "execution_count": 95,
   "id": "dc258c2d-da4f-41a1-b35d-fd535d25d716",
   "metadata": {},
   "outputs": [
    {
     "data": {
      "text/plain": [
       "64"
      ]
     },
     "execution_count": 95,
     "metadata": {},
     "output_type": "execute_result"
    }
   ],
   "source": [
    "4 ** 3"
   ]
  },
  {
   "cell_type": "markdown",
   "id": "b4b1acb5-a046-4aa5-97e0-bc1718b58235",
   "metadata": {},
   "source": [
    "# Variables"
   ]
  },
  {
   "cell_type": "code",
   "execution_count": 96,
   "id": "9623e06f-12f1-4403-87c1-75b01a749469",
   "metadata": {},
   "outputs": [],
   "source": [
    "Age1 = 3"
   ]
  },
  {
   "cell_type": "code",
   "execution_count": 97,
   "id": "71338870-67a4-47af-bfe8-35d1c2b042c5",
   "metadata": {},
   "outputs": [
    {
     "ename": "SyntaxError",
     "evalue": "invalid syntax (2781269983.py, line 1)",
     "output_type": "error",
     "traceback": [
      "\u001b[1;36m  Cell \u001b[1;32mIn[97], line 1\u001b[1;36m\u001b[0m\n\u001b[1;33m    1Age = 4\u001b[0m\n\u001b[1;37m     ^\u001b[0m\n\u001b[1;31mSyntaxError\u001b[0m\u001b[1;31m:\u001b[0m invalid syntax\n"
     ]
    }
   ],
   "source": [
    "1Age = 4"
   ]
  },
  {
   "cell_type": "code",
   "execution_count": 98,
   "id": "6a327ef2-48ef-481b-ac46-02c61175e6a5",
   "metadata": {},
   "outputs": [],
   "source": [
    "Age_1 = 100 "
   ]
  },
  {
   "cell_type": "code",
   "execution_count": 99,
   "id": "2806c13d-51b9-41b1-83f6-a61dee55f4b3",
   "metadata": {},
   "outputs": [
    {
     "ename": "SyntaxError",
     "evalue": "cannot assign to operator (2911511369.py, line 1)",
     "output_type": "error",
     "traceback": [
      "\u001b[1;36m  Cell \u001b[1;32mIn[99], line 1\u001b[1;36m\u001b[0m\n\u001b[1;33m    Age@1 = 100\u001b[0m\n\u001b[1;37m    ^\u001b[0m\n\u001b[1;31mSyntaxError\u001b[0m\u001b[1;31m:\u001b[0m cannot assign to operator\n"
     ]
    }
   ],
   "source": [
    "Age@1 = 100"
   ]
  },
  {
   "cell_type": "code",
   "execution_count": 100,
   "id": "dbeb27d7-420d-46e7-9c24-fde70fc1e5e0",
   "metadata": {},
   "outputs": [],
   "source": [
    "# 3.\tHow can you delete variables in Python ?\n",
    "del Age_1"
   ]
  },
  {
   "cell_type": "code",
   "execution_count": 101,
   "id": "839d1f51-491e-4cab-82f8-21077c4dd9e4",
   "metadata": {},
   "outputs": [
    {
     "data": {
      "text/plain": [
       "(1, 1, 8, 10)"
      ]
     },
     "execution_count": 101,
     "metadata": {},
     "output_type": "execute_result"
    }
   ],
   "source": [
    "(1,1) + (8, 10)"
   ]
  },
  {
   "cell_type": "code",
   "execution_count": null,
   "id": "a8948d84-ccc7-47d9-83db-fa01565e828e",
   "metadata": {},
   "outputs": [],
   "source": []
  },
  {
   "cell_type": "code",
   "execution_count": null,
   "id": "87084518-483e-4171-b374-5ca66367ec55",
   "metadata": {},
   "outputs": [],
   "source": []
  },
  {
   "cell_type": "code",
   "execution_count": null,
   "id": "55a2a09e-5835-45f6-bebb-e4f346089498",
   "metadata": {},
   "outputs": [],
   "source": []
  },
  {
   "cell_type": "code",
   "execution_count": null,
   "id": "cf8061b5-e3e2-4ab7-93c2-cae995fdc3d8",
   "metadata": {},
   "outputs": [],
   "source": []
  }
 ],
 "metadata": {
  "kernelspec": {
   "display_name": "Python 3 (ipykernel)",
   "language": "python",
   "name": "python3"
  },
  "language_info": {
   "codemirror_mode": {
    "name": "ipython",
    "version": 3
   },
   "file_extension": ".py",
   "mimetype": "text/x-python",
   "name": "python",
   "nbconvert_exporter": "python",
   "pygments_lexer": "ipython3",
   "version": "3.8.20"
  },
  "widgets": {
   "application/vnd.jupyter.widget-state+json": {
    "state": {},
    "version_major": 2,
    "version_minor": 0
   }
  }
 },
 "nbformat": 4,
 "nbformat_minor": 5
}
